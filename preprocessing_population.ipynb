{
 "cells": [
  {
   "cell_type": "code",
   "execution_count": 69,
   "metadata": {},
   "outputs": [],
   "source": [
    "import pyspark as ps\n",
    "import pandas as pd\n",
    "from pyspark.sql import SparkSession\n",
    "from matplotlib import pyplot as plt\n",
    "from pyspark.sql.functions import substring, count, concat, col, lit, round, when, unix_timestamp, date_format, month, year\n",
    "import json\n",
    "import time"
   ]
  },
  {
   "cell_type": "markdown",
   "metadata": {},
   "source": [
    "#  Getting Started"
   ]
  },
  {
   "cell_type": "markdown",
   "metadata": {},
   "source": [
    "## Download Data"
   ]
  },
  {
   "cell_type": "markdown",
   "metadata": {},
   "source": [
    "Using cURL instead of Kaggle cause kagglehub only downloads to outside your project directory and Kaggle needs authentification...\n",
    " \n",
    "uhhhe, gross!"
   ]
  },
  {
   "cell_type": "code",
   "execution_count": 22,
   "metadata": {},
   "outputs": [
    {
     "name": "stdout",
     "output_type": "stream",
     "text": [
      "  % Total    % Received % Xferd  Average Speed   Time    Time     Time  Current\n",
      "                                 Dload  Upload   Total   Spent    Left  Speed\n",
      "  0     0    0     0    0     0      0      0 --:--:-- --:--:-- --:--:--     0\n",
      "100  653M  100  653M    0     0  41.2M      0  0:00:15  0:00:15 --:--:-- 41.6M\n"
     ]
    }
   ],
   "source": [
    "!curl -L -o archive.zip https://www.kaggle.com/api/v1/datasets/download/sobhanmoosavi/us-accidents"
   ]
  },
  {
   "cell_type": "code",
   "execution_count": 26,
   "metadata": {},
   "outputs": [
    {
     "name": "stdout",
     "output_type": "stream",
     "text": [
      "Archive:  archive.zip\n",
      "  inflating: US_Accidents_March23.csv  \n"
     ]
    }
   ],
   "source": [
    "!unzip archive.zip"
   ]
  },
  {
   "cell_type": "markdown",
   "metadata": {},
   "source": [
    "## Create Spark Session"
   ]
  },
  {
   "cell_type": "markdown",
   "metadata": {},
   "source": [
    "I'll use pyspark first cause it's optimized for large data. By the end of the section we will output a pandas dataframe which is more familiar to everybody."
   ]
  },
  {
   "cell_type": "code",
   "execution_count": 13,
   "metadata": {},
   "outputs": [
    {
     "name": "stderr",
     "output_type": "stream",
     "text": [
      "                                                                                \r"
     ]
    }
   ],
   "source": [
    "# Initialize Spark Session\n",
    "spark = SparkSession.builder.appName(\"US_Accidents_Analysis\").getOrCreate()\n",
    "\n",
    "# Load the CSV file into a DataFrame\n",
    "df = spark.read.option(\"header\", \"true\").option(\"inferSchema\", \"true\").csv(\"US_Accidents_March23.csv\")"
   ]
  },
  {
   "cell_type": "code",
   "execution_count": 15,
   "metadata": {},
   "outputs": [
    {
     "name": "stdout",
     "output_type": "stream",
     "text": [
      "+---+-------+--------+-------------------+-------------------+-----------------+------------------+-------+-------+------------+--------------------+--------------------+------------+----------+-----+----------+-------+----------+------------+-------------------+--------------+-------------+-----------+------------+--------------+--------------+---------------+-----------------+-----------------+-------+-----+--------+--------+--------+-------+-------+----------+-------+-----+---------------+--------------+------------+--------------+--------------+-----------------+---------------------+\n",
      "| ID| Source|Severity|         Start_Time|           End_Time|        Start_Lat|         Start_Lng|End_Lat|End_Lng|Distance(mi)|         Description|              Street|        City|    County|State|   Zipcode|Country|  Timezone|Airport_Code|  Weather_Timestamp|Temperature(F)|Wind_Chill(F)|Humidity(%)|Pressure(in)|Visibility(mi)|Wind_Direction|Wind_Speed(mph)|Precipitation(in)|Weather_Condition|Amenity| Bump|Crossing|Give_Way|Junction|No_Exit|Railway|Roundabout|Station| Stop|Traffic_Calming|Traffic_Signal|Turning_Loop|Sunrise_Sunset|Civil_Twilight|Nautical_Twilight|Astronomical_Twilight|\n",
      "+---+-------+--------+-------------------+-------------------+-----------------+------------------+-------+-------+------------+--------------------+--------------------+------------+----------+-----+----------+-------+----------+------------+-------------------+--------------+-------------+-----------+------------+--------------+--------------+---------------+-----------------+-----------------+-------+-----+--------+--------+--------+-------+-------+----------+-------+-----+---------------+--------------+------------+--------------+--------------+-----------------+---------------------+\n",
      "|A-1|Source2|       3|2016-02-08 05:46:00|2016-02-08 11:00:00|        39.865147|        -84.058723|   NULL|   NULL|        0.01|Right lane blocke...|              I-70 E|      Dayton|Montgomery|   OH|     45424|     US|US/Eastern|        KFFO|2016-02-08 05:58:00|          36.9|         NULL|       91.0|       29.68|          10.0|          Calm|           NULL|             0.02|       Light Rain|  false|false|   false|   false|   false|  false|  false|     false|  false|false|          false|         false|       false|         Night|         Night|            Night|                Night|\n",
      "|A-2|Source2|       2|2016-02-08 06:07:59|2016-02-08 06:37:59|39.92805900000001|        -82.831184|   NULL|   NULL|        0.01|Accident on Brice...|            Brice Rd|Reynoldsburg|  Franklin|   OH|43068-3402|     US|US/Eastern|        KCMH|2016-02-08 05:51:00|          37.9|         NULL|      100.0|       29.65|          10.0|          Calm|           NULL|              0.0|       Light Rain|  false|false|   false|   false|   false|  false|  false|     false|  false|false|          false|         false|       false|         Night|         Night|            Night|                  Day|\n",
      "|A-3|Source2|       2|2016-02-08 06:49:27|2016-02-08 07:19:27|        39.063148|        -84.032608|   NULL|   NULL|        0.01|Accident on OH-32...|      State Route 32|Williamsburg|  Clermont|   OH|     45176|     US|US/Eastern|        KI69|2016-02-08 06:56:00|          36.0|         33.3|      100.0|       29.67|          10.0|            SW|            3.5|             NULL|         Overcast|  false|false|   false|   false|   false|  false|  false|     false|  false|false|          false|          true|       false|         Night|         Night|              Day|                  Day|\n",
      "|A-4|Source2|       3|2016-02-08 07:23:34|2016-02-08 07:53:34|        39.747753|-84.20558199999998|   NULL|   NULL|        0.01|Accident on I-75 ...|              I-75 S|      Dayton|Montgomery|   OH|     45417|     US|US/Eastern|        KDAY|2016-02-08 07:38:00|          35.1|         31.0|       96.0|       29.64|           9.0|            SW|            4.6|             NULL|    Mostly Cloudy|  false|false|   false|   false|   false|  false|  false|     false|  false|false|          false|         false|       false|         Night|           Day|              Day|                  Day|\n",
      "|A-5|Source2|       2|2016-02-08 07:39:07|2016-02-08 08:09:07|        39.627781|        -84.188354|   NULL|   NULL|        0.01|Accident on McEwe...|Miamisburg Center...|      Dayton|Montgomery|   OH|     45459|     US|US/Eastern|        KMGY|2016-02-08 07:53:00|          36.0|         33.3|       89.0|       29.65|           6.0|            SW|            3.5|             NULL|    Mostly Cloudy|  false|false|   false|   false|   false|  false|  false|     false|  false|false|          false|          true|       false|           Day|           Day|              Day|                  Day|\n",
      "+---+-------+--------+-------------------+-------------------+-----------------+------------------+-------+-------+------------+--------------------+--------------------+------------+----------+-----+----------+-------+----------+------------+-------------------+--------------+-------------+-----------+------------+--------------+--------------+---------------+-----------------+-----------------+-------+-----+--------+--------+--------+-------+-------+----------+-------+-----+---------------+--------------+------------+--------------+--------------+-----------------+---------------------+\n",
      "only showing top 5 rows\n",
      "\n"
     ]
    }
   ],
   "source": [
    "df.show(5)"
   ]
  },
  {
   "cell_type": "markdown",
   "metadata": {},
   "source": [
    "# Data Cleaning"
   ]
  },
  {
   "cell_type": "markdown",
   "metadata": {},
   "source": [
    "## Drop Unusable Variables"
   ]
  },
  {
   "cell_type": "markdown",
   "metadata": {},
   "source": [
    "Some of the variables simply don't make sense and will not contribute to our model.\n",
    "\n",
    "Some are debatable."
   ]
  },
  {
   "cell_type": "markdown",
   "metadata": {},
   "source": [
    "### Assess weather condition stay or leave"
   ]
  },
  {
   "cell_type": "code",
   "execution_count": 10,
   "metadata": {},
   "outputs": [
    {
     "name": "stderr",
     "output_type": "stream",
     "text": [
      "                                                                                \r"
     ]
    },
    {
     "data": {
      "text/plain": [
       "[Row(Weather_Condition='Ice Pellets'),\n",
       " Row(Weather_Condition='Shallow Fog'),\n",
       " Row(Weather_Condition='Thunderstorm'),\n",
       " Row(Weather_Condition='Volcanic Ash'),\n",
       " Row(Weather_Condition='N/A Precipitation'),\n",
       " Row(Weather_Condition='Showers in the Vicinity'),\n",
       " Row(Weather_Condition='Cloudy'),\n",
       " Row(Weather_Condition='Light Freezing Rain'),\n",
       " Row(Weather_Condition='Blowing Snow'),\n",
       " Row(Weather_Condition='Heavy Rain / Windy'),\n",
       " Row(Weather_Condition='Low Drifting Snow'),\n",
       " Row(Weather_Condition='Heavy Thunderstorms and Snow'),\n",
       " Row(Weather_Condition='Widespread Dust'),\n",
       " Row(Weather_Condition='Snow Grains'),\n",
       " Row(Weather_Condition='Light Rain with Thunder'),\n",
       " Row(Weather_Condition='Squalls'),\n",
       " Row(Weather_Condition='Scattered Clouds'),\n",
       " Row(Weather_Condition='Heavy T-Storm'),\n",
       " Row(Weather_Condition='Patches of Fog'),\n",
       " Row(Weather_Condition='Rain Showers'),\n",
       " Row(Weather_Condition='Thunderstorms and Rain'),\n",
       " Row(Weather_Condition='Drizzle'),\n",
       " Row(Weather_Condition='Cloudy / Windy'),\n",
       " Row(Weather_Condition='T-Storm'),\n",
       " Row(Weather_Condition='Snow Showers'),\n",
       " Row(Weather_Condition='Fog'),\n",
       " Row(Weather_Condition='Partly Cloudy'),\n",
       " Row(Weather_Condition='Clear'),\n",
       " Row(Weather_Condition='Light Freezing Fog'),\n",
       " Row(Weather_Condition='Fair'),\n",
       " Row(Weather_Condition='Heavy Drizzle'),\n",
       " Row(Weather_Condition='Heavy Thunderstorms and Rain'),\n",
       " Row(Weather_Condition='Mostly Cloudy'),\n",
       " Row(Weather_Condition='Funnel Cloud'),\n",
       " Row(Weather_Condition='Smoke'),\n",
       " Row(Weather_Condition='Light Ice Pellets'),\n",
       " Row(Weather_Condition='Light Freezing Drizzle'),\n",
       " Row(Weather_Condition='Light Haze'),\n",
       " Row(Weather_Condition='Heavy T-Storm / Windy'),\n",
       " Row(Weather_Condition='Heavy Rain'),\n",
       " Row(Weather_Condition='Sand'),\n",
       " Row(Weather_Condition='Light Rain Showers'),\n",
       " Row(Weather_Condition='Rain / Windy'),\n",
       " Row(Weather_Condition='Thunder'),\n",
       " Row(Weather_Condition='Light Fog'),\n",
       " Row(Weather_Condition='Light Rain'),\n",
       " Row(Weather_Condition='Blowing Sand'),\n",
       " Row(Weather_Condition='Mist'),\n",
       " Row(Weather_Condition='Light Thunderstorms and Rain'),\n",
       " Row(Weather_Condition='Hail'),\n",
       " Row(Weather_Condition='Light Rain / Windy'),\n",
       " Row(Weather_Condition='Partly Cloudy / Windy'),\n",
       " Row(Weather_Condition='Blowing Dust / Windy'),\n",
       " Row(Weather_Condition='Rain'),\n",
       " Row(Weather_Condition='Snow'),\n",
       " Row(Weather_Condition='Light Drizzle'),\n",
       " Row(Weather_Condition='Thunder in the Vicinity'),\n",
       " Row(Weather_Condition='Haze'),\n",
       " Row(Weather_Condition='Overcast'),\n",
       " Row(Weather_Condition='Light Snow'),\n",
       " Row(Weather_Condition='Heavy Snow'),\n",
       " Row(Weather_Condition='Light Thunderstorms and Snow'),\n",
       " Row(Weather_Condition='Fair / Windy'),\n",
       " Row(Weather_Condition='Mostly Cloudy / Windy'),\n",
       " Row(Weather_Condition='Light Rain Shower'),\n",
       " Row(Weather_Condition='Light Snow with Thunder'),\n",
       " Row(Weather_Condition='Light Sleet'),\n",
       " Row(Weather_Condition='Light Snow / Windy'),\n",
       " Row(Weather_Condition='Heavy Ice Pellets'),\n",
       " Row(Weather_Condition='Wintry Mix / Windy'),\n",
       " Row(Weather_Condition='T-Storm / Windy'),\n",
       " Row(Weather_Condition='Wintry Mix'),\n",
       " Row(Weather_Condition='Sleet'),\n",
       " Row(Weather_Condition='Thunder / Windy'),\n",
       " Row(Weather_Condition='Widespread Dust / Windy'),\n",
       " Row(Weather_Condition='Rain Shower'),\n",
       " Row(Weather_Condition='Sleet / Windy'),\n",
       " Row(Weather_Condition='Tornado'),\n",
       " Row(Weather_Condition='Light Drizzle / Windy'),\n",
       " Row(Weather_Condition='Freezing Drizzle'),\n",
       " Row(Weather_Condition='Heavy Snow / Windy'),\n",
       " Row(Weather_Condition='Smoke / Windy'),\n",
       " Row(Weather_Condition='Haze / Windy'),\n",
       " Row(Weather_Condition='Small Hail'),\n",
       " Row(Weather_Condition='Drizzle and Fog'),\n",
       " Row(Weather_Condition='Blowing Dust'),\n",
       " Row(Weather_Condition='Thunder / Wintry Mix'),\n",
       " Row(Weather_Condition='Freezing Rain'),\n",
       " Row(Weather_Condition='Light Snow and Sleet'),\n",
       " Row(Weather_Condition='Snow and Sleet'),\n",
       " Row(Weather_Condition='Fog / Windy'),\n",
       " Row(Weather_Condition='Snow / Windy'),\n",
       " Row(Weather_Condition='Snow and Thunder'),\n",
       " Row(Weather_Condition='Heavy Freezing Rain'),\n",
       " Row(Weather_Condition='Heavy Rain Showers'),\n",
       " Row(Weather_Condition='Light Snow Shower'),\n",
       " Row(Weather_Condition='Light Freezing Rain / Windy'),\n",
       " Row(Weather_Condition='Heavy Freezing Rain / Windy'),\n",
       " Row(Weather_Condition='Light Snow and Sleet / Windy'),\n",
       " Row(Weather_Condition='Snow and Sleet / Windy'),\n",
       " Row(Weather_Condition='Blowing Snow / Windy'),\n",
       " Row(Weather_Condition='Light Rain Shower / Windy'),\n",
       " Row(Weather_Condition='Duststorm'),\n",
       " Row(Weather_Condition='Mist / Windy'),\n",
       " Row(Weather_Condition='Light Sleet / Windy'),\n",
       " Row(Weather_Condition='Sand / Dust Whirls Nearby'),\n",
       " Row(Weather_Condition='Squalls / Windy'),\n",
       " Row(Weather_Condition='Snow and Thunder / Windy'),\n",
       " Row(Weather_Condition='Drizzle / Windy'),\n",
       " Row(Weather_Condition='Sand / Dust Whirlwinds'),\n",
       " Row(Weather_Condition='Freezing Rain / Windy'),\n",
       " Row(Weather_Condition='Thunder and Hail'),\n",
       " Row(Weather_Condition='Partial Fog'),\n",
       " Row(Weather_Condition='Heavy Sleet'),\n",
       " Row(Weather_Condition='Light Snow Shower / Windy'),\n",
       " Row(Weather_Condition='Thunder / Wintry Mix / Windy'),\n",
       " Row(Weather_Condition='Rain and Sleet'),\n",
       " Row(Weather_Condition='Patches of Fog / Windy'),\n",
       " Row(Weather_Condition='Light Snow Grains'),\n",
       " Row(Weather_Condition='Sand / Dust Whirlwinds / Windy'),\n",
       " Row(Weather_Condition='Partial Fog / Windy'),\n",
       " Row(Weather_Condition='Heavy Smoke'),\n",
       " Row(Weather_Condition='Light Hail'),\n",
       " Row(Weather_Condition='Heavy Blowing Snow'),\n",
       " Row(Weather_Condition='Light Snow Showers'),\n",
       " Row(Weather_Condition='Heavy Snow with Thunder'),\n",
       " Row(Weather_Condition='Heavy Thunderstorms with Small Hail'),\n",
       " Row(Weather_Condition='Light Thunderstorm'),\n",
       " Row(Weather_Condition='Heavy Freezing Drizzle'),\n",
       " Row(Weather_Condition='Light Blowing Snow'),\n",
       " Row(Weather_Condition='Thunderstorms and Snow'),\n",
       " Row(Weather_Condition='Dust Whirls'),\n",
       " Row(Weather_Condition='Rain Shower / Windy'),\n",
       " Row(Weather_Condition='Heavy Sleet and Thunder'),\n",
       " Row(Weather_Condition='Drifting Snow / Windy'),\n",
       " Row(Weather_Condition='Sleet and Thunder'),\n",
       " Row(Weather_Condition='Shallow Fog / Windy'),\n",
       " Row(Weather_Condition='Thunder and Hail / Windy'),\n",
       " Row(Weather_Condition='Heavy Sleet / Windy'),\n",
       " Row(Weather_Condition='Sand / Windy'),\n",
       " Row(Weather_Condition='Heavy Rain Shower / Windy'),\n",
       " Row(Weather_Condition='Blowing Snow Nearby'),\n",
       " Row(Weather_Condition='Drifting Snow'),\n",
       " Row(Weather_Condition='Heavy Rain Shower'),\n",
       " Row(Weather_Condition=None)]"
      ]
     },
     "execution_count": 10,
     "metadata": {},
     "output_type": "execute_result"
    }
   ],
   "source": [
    "df.select(\"Weather_Condition\").distinct().collect()"
   ]
  },
  {
   "cell_type": "markdown",
   "metadata": {},
   "source": [
    "Weather condition has too many variables.. we drop it for now cause other numeric parameters should be sufficient."
   ]
  },
  {
   "cell_type": "markdown",
   "metadata": {},
   "source": [
    "### Assess day/night condition stay or leave"
   ]
  },
  {
   "cell_type": "code",
   "execution_count": 11,
   "metadata": {},
   "outputs": [
    {
     "name": "stderr",
     "output_type": "stream",
     "text": [
      "[Stage 13:============================>                          (12 + 11) / 23]\r"
     ]
    },
    {
     "name": "stdout",
     "output_type": "stream",
     "text": [
      "+--------------+\n",
      "|Sunrise_Sunset|\n",
      "+--------------+\n",
      "|         Night|\n",
      "|           Day|\n",
      "|          NULL|\n",
      "+--------------+\n",
      "\n"
     ]
    },
    {
     "name": "stderr",
     "output_type": "stream",
     "text": [
      "                                                                                \r"
     ]
    }
   ],
   "source": [
    "df.select(\"Sunrise_Sunset\").distinct().show()"
   ]
  },
  {
   "cell_type": "markdown",
   "metadata": {},
   "source": [
    "It'll stay as a boolean."
   ]
  },
  {
   "cell_type": "code",
   "execution_count": 20,
   "metadata": {},
   "outputs": [],
   "source": [
    "df = df.withColumn(\n",
    "    \"Day_Night\",\n",
    "    when(col(\"Sunrise_Sunset\") == \"Day\", 1)\n",
    "    .when(col(\"Sunrise_Sunset\") == \"Night\", 0)\n",
    "    .otherwise(None)  # You can replace None with a value, such as -1, to handle NULL cases\n",
    ")"
   ]
  },
  {
   "cell_type": "markdown",
   "metadata": {},
   "source": [
    "### Start Dropping"
   ]
  },
  {
   "cell_type": "markdown",
   "metadata": {},
   "source": [
    "Some of the variables simply don't make sense and will not contribute to our model."
   ]
  },
  {
   "cell_type": "code",
   "execution_count": 21,
   "metadata": {},
   "outputs": [
    {
     "name": "stdout",
     "output_type": "stream",
     "text": [
      "+--------+-------------------+-------------------+------------+----------+--------------+-------------+-----------+------------+--------------+--------------+---------------+-----------------+--------------+---------+\n",
      "|Severity|Start_Time         |End_Time           |Distance(mi)|Zipcode   |Temperature(F)|Wind_Chill(F)|Humidity(%)|Pressure(in)|Visibility(mi)|Wind_Direction|Wind_Speed(mph)|Precipitation(in)|Sunrise_Sunset|Day_Night|\n",
      "+--------+-------------------+-------------------+------------+----------+--------------+-------------+-----------+------------+--------------+--------------+---------------+-----------------+--------------+---------+\n",
      "|3       |2016-02-08 05:46:00|2016-02-08 11:00:00|0.01        |45424     |36.9          |NULL         |91.0       |29.68       |10.0          |Calm          |NULL           |0.02             |Night         |0        |\n",
      "|2       |2016-02-08 06:07:59|2016-02-08 06:37:59|0.01        |43068-3402|37.9          |NULL         |100.0      |29.65       |10.0          |Calm          |NULL           |0.0              |Night         |0        |\n",
      "|2       |2016-02-08 06:49:27|2016-02-08 07:19:27|0.01        |45176     |36.0          |33.3         |100.0      |29.67       |10.0          |SW            |3.5            |NULL             |Night         |0        |\n",
      "|3       |2016-02-08 07:23:34|2016-02-08 07:53:34|0.01        |45417     |35.1          |31.0         |96.0       |29.64       |9.0           |SW            |4.6            |NULL             |Night         |0        |\n",
      "|2       |2016-02-08 07:39:07|2016-02-08 08:09:07|0.01        |45459     |36.0          |33.3         |89.0       |29.65       |6.0           |SW            |3.5            |NULL             |Day           |1        |\n",
      "+--------+-------------------+-------------------+------------+----------+--------------+-------------+-----------+------------+--------------+--------------+---------------+-----------------+--------------+---------+\n",
      "only showing top 5 rows\n",
      "\n"
     ]
    }
   ],
   "source": [
    "# Drop the unnecessary columns including ID and Source\n",
    "df_cleaned = df.drop(\"Start_Lat\", \"Start_Lng\", \"End_Lat\", \"End_Lng\", \"Description\", \"ID\", \"Source\", \n",
    "                     \"Distance\", \"Street\", \"City\", \"County\", \"State\", \"Country\", \"Timezone\", \"Airport_code\", \n",
    "                     \"Weather_Condition\", \"Amenity\", \"Bump\", \"Crossing\", \"Give_Way\", \"Junction\", \"No_Exit\", \"Railway\", \n",
    "                     \"Roundabout\", \"Weather_Timestamp\", \"Station\", \"Stop\", \"Traffic_Calming\", \"Traffic_Signal\", \"Turning_Loop\", \n",
    "                     \"Astronomical_Twilight\", \"Nautical_Twilight\", \"Civil_Twilight\")\n",
    "\n",
    "# Show the first 5 rows of the cleaned DataFrame to verify the columns were removed\n",
    "df_cleaned.show(5, truncate=False)"
   ]
  },
  {
   "cell_type": "code",
   "execution_count": 22,
   "metadata": {},
   "outputs": [],
   "source": [
    "df = df_cleaned"
   ]
  },
  {
   "cell_type": "markdown",
   "metadata": {},
   "source": [
    "## Drop Null"
   ]
  },
  {
   "cell_type": "code",
   "execution_count": 23,
   "metadata": {},
   "outputs": [
    {
     "name": "stderr",
     "output_type": "stream",
     "text": [
      "                                                                                \r"
     ]
    },
    {
     "data": {
      "text/plain": [
       "7728394"
      ]
     },
     "execution_count": 23,
     "metadata": {},
     "output_type": "execute_result"
    }
   ],
   "source": [
    "df.count()"
   ]
  },
  {
   "cell_type": "code",
   "execution_count": 24,
   "metadata": {},
   "outputs": [],
   "source": [
    "df = df.dropna()"
   ]
  },
  {
   "cell_type": "code",
   "execution_count": 25,
   "metadata": {},
   "outputs": [
    {
     "name": "stderr",
     "output_type": "stream",
     "text": [
      "                                                                                \r"
     ]
    },
    {
     "data": {
      "text/plain": [
       "5227072"
      ]
     },
     "execution_count": 25,
     "metadata": {},
     "output_type": "execute_result"
    }
   ],
   "source": [
    "df.count()"
   ]
  },
  {
   "cell_type": "markdown",
   "metadata": {},
   "source": [
    "## Create Duration feature"
   ]
  },
  {
   "cell_type": "code",
   "execution_count": 29,
   "metadata": {},
   "outputs": [],
   "source": [
    "df = df.withColumn(\n",
    "    \"duration_minutes\",\n",
    "    (unix_timestamp(col(\"end_time\")) - unix_timestamp(col(\"start_time\"))) / 60\n",
    ")"
   ]
  },
  {
   "cell_type": "code",
   "execution_count": 31,
   "metadata": {},
   "outputs": [
    {
     "name": "stdout",
     "output_type": "stream",
     "text": [
      "+--------+-------------------+-------------------+------------+----------+--------------+-------------+-----------+------------+--------------+--------------+---------------+-----------------+--------------+---------+----------------+\n",
      "|Severity|         Start_Time|           End_Time|Distance(mi)|   Zipcode|Temperature(F)|Wind_Chill(F)|Humidity(%)|Pressure(in)|Visibility(mi)|Wind_Direction|Wind_Speed(mph)|Precipitation(in)|Sunrise_Sunset|Day_Night|duration_minutes|\n",
      "+--------+-------------------+-------------------+------------+----------+--------------+-------------+-----------+------------+--------------+--------------+---------------+-----------------+--------------+---------+----------------+\n",
      "|       3|2016-02-08 07:44:26|2016-02-08 08:14:26|        0.01|     43081|          37.9|         35.5|       97.0|       29.63|           7.0|           SSW|            3.5|             0.03|           Day|        1|            30.0|\n",
      "|       3|2016-02-08 08:10:04|2016-02-08 08:40:04|        0.01|     43081|          37.4|         33.8|      100.0|       29.62|           3.0|           SSW|            4.6|             0.02|           Day|        1|            30.0|\n",
      "|       3|2016-02-08 08:21:27|2016-02-08 08:51:27|        0.01|     43068|          37.4|         33.8|      100.0|       29.62|           3.0|           SSW|            4.6|             0.02|           Day|        1|            30.0|\n",
      "|       2|2016-02-08 08:39:43|2016-02-08 09:09:43|        0.01|43213-1006|          37.4|         33.8|      100.0|       29.62|           3.0|           SSW|            4.6|             0.02|           Day|        1|            30.0|\n",
      "|       2|2016-02-08 10:11:15|2016-02-08 10:41:15|         0.0|43230-1765|          33.8|         29.6|      100.0|       29.62|           2.0|           NNW|            4.6|             0.01|           Day|        1|            30.0|\n",
      "+--------+-------------------+-------------------+------------+----------+--------------+-------------+-----------+------------+--------------+--------------+---------------+-----------------+--------------+---------+----------------+\n",
      "only showing top 5 rows\n",
      "\n"
     ]
    }
   ],
   "source": [
    "df.show(5)"
   ]
  },
  {
   "cell_type": "markdown",
   "metadata": {},
   "source": [
    "## Create Day, Month, Year Categorical Variables"
   ]
  },
  {
   "cell_type": "code",
   "execution_count": 37,
   "metadata": {},
   "outputs": [
    {
     "name": "stdout",
     "output_type": "stream",
     "text": [
      "+--------+-------------------+-------------------+------------+----------+--------------+-------------+-----------+------------+--------------+--------------+---------------+-----------------+--------------+---------+----------------+-----------+-----+----+\n",
      "|Severity|         Start_Time|           End_Time|Distance(mi)|   Zipcode|Temperature(F)|Wind_Chill(F)|Humidity(%)|Pressure(in)|Visibility(mi)|Wind_Direction|Wind_Speed(mph)|Precipitation(in)|Sunrise_Sunset|Day_Night|duration_minutes|day_of_week|month|year|\n",
      "+--------+-------------------+-------------------+------------+----------+--------------+-------------+-----------+------------+--------------+--------------+---------------+-----------------+--------------+---------+----------------+-----------+-----+----+\n",
      "|       3|2016-02-08 07:44:26|2016-02-08 08:14:26|        0.01|     43081|          37.9|         35.5|       97.0|       29.63|           7.0|           SSW|            3.5|             0.03|           Day|        1|            30.0|          1|    2|2016|\n",
      "|       3|2016-02-08 08:10:04|2016-02-08 08:40:04|        0.01|     43081|          37.4|         33.8|      100.0|       29.62|           3.0|           SSW|            4.6|             0.02|           Day|        1|            30.0|          1|    2|2016|\n",
      "|       3|2016-02-08 08:21:27|2016-02-08 08:51:27|        0.01|     43068|          37.4|         33.8|      100.0|       29.62|           3.0|           SSW|            4.6|             0.02|           Day|        1|            30.0|          1|    2|2016|\n",
      "|       2|2016-02-08 08:39:43|2016-02-08 09:09:43|        0.01|43213-1006|          37.4|         33.8|      100.0|       29.62|           3.0|           SSW|            4.6|             0.02|           Day|        1|            30.0|          1|    2|2016|\n",
      "|       2|2016-02-08 10:11:15|2016-02-08 10:41:15|         0.0|43230-1765|          33.8|         29.6|      100.0|       29.62|           2.0|           NNW|            4.6|             0.01|           Day|        1|            30.0|          1|    2|2016|\n",
      "+--------+-------------------+-------------------+------------+----------+--------------+-------------+-----------+------------+--------------+--------------+---------------+-----------------+--------------+---------+----------------+-----------+-----+----+\n",
      "only showing top 5 rows\n",
      "\n"
     ]
    }
   ],
   "source": [
    "# Step 1: Extract \"day_of_week\" as a string, \"month\", and \"year\"\n",
    "df = df.withColumn(\"day_of_week_str\", date_format(col(\"start_time\"), \"E\")) \\\n",
    "       .withColumn(\"month\", month(col(\"start_time\"))) \\\n",
    "       .withColumn(\"year\", year(col(\"start_time\")))\n",
    "\n",
    "# Step 2: Map the day_of_week_str to numeric values (Mon = 1, ..., Sun = 7)\n",
    "df = df.withColumn(\n",
    "    \"day_of_week\",\n",
    "    when(col(\"day_of_week_str\") == \"Mon\", 1)\n",
    "    .when(col(\"day_of_week_str\") == \"Tue\", 2)\n",
    "    .when(col(\"day_of_week_str\") == \"Wed\", 3)\n",
    "    .when(col(\"day_of_week_str\") == \"Thu\", 4)\n",
    "    .when(col(\"day_of_week_str\") == \"Fri\", 5)\n",
    "    .when(col(\"day_of_week_str\") == \"Sat\", 6)\n",
    "    .when(col(\"day_of_week_str\") == \"Sun\", 7)\n",
    "    .otherwise(None)\n",
    ")\n",
    "\n",
    "# Step 3: (Optional) Drop the \"day_of_week_str\" column if you no longer need it\n",
    "df = df.drop(\"day_of_week_str\")\n",
    "df.show(5)"
   ]
  },
  {
   "cell_type": "markdown",
   "metadata": {},
   "source": [
    "## Geolocation Processing - ZIP Code to Population"
   ]
  },
  {
   "cell_type": "markdown",
   "metadata": {},
   "source": [
    "Due to an imbalance of geolocation data, I propose we use population as a continuous to replace ZIP code."
   ]
  },
  {
   "cell_type": "code",
   "execution_count": 44,
   "metadata": {},
   "outputs": [],
   "source": [
    "# First let's truncate zipcode to only 5 digits\n",
    "df = df.withColumn(\"Zipcode\", substring(\"Zipcode\", 1, 5))"
   ]
  },
  {
   "cell_type": "code",
   "execution_count": 50,
   "metadata": {},
   "outputs": [
    {
     "name": "stderr",
     "output_type": "stream",
     "text": [
      "                                                                                \r"
     ]
    }
   ],
   "source": [
    "unique_zipcodes = [row[\"Zipcode\"] for row in df.select(\"Zipcode\").distinct().collect()]"
   ]
  },
  {
   "cell_type": "markdown",
   "metadata": {},
   "source": [
    "### Imbalance of ZIP Code Distribution"
   ]
  },
  {
   "cell_type": "code",
   "execution_count": 52,
   "metadata": {},
   "outputs": [
    {
     "data": {
      "text/plain": [
       "20305"
      ]
     },
     "execution_count": 52,
     "metadata": {},
     "output_type": "execute_result"
    }
   ],
   "source": [
    "len(unique_zipcodes)"
   ]
  },
  {
   "cell_type": "code",
   "execution_count": 46,
   "metadata": {},
   "outputs": [
    {
     "name": "stderr",
     "output_type": "stream",
     "text": [
      "[Stage 60:============================>                          (12 + 11) / 23]\r"
     ]
    },
    {
     "name": "stdout",
     "output_type": "stream",
     "text": [
      "+-------+-----+\n",
      "|Zipcode|count|\n",
      "+-------+-----+\n",
      "|33186  |10560|\n",
      "|32819  |9841 |\n",
      "|27610  |8767 |\n",
      "|91761  |8610 |\n",
      "|33155  |8341 |\n",
      "|70808  |7764 |\n",
      "|32837  |7753 |\n",
      "|92407  |7590 |\n",
      "|37211  |7480 |\n",
      "|33169  |7395 |\n",
      "+-------+-----+\n",
      "only showing top 10 rows\n",
      "\n"
     ]
    },
    {
     "name": "stderr",
     "output_type": "stream",
     "text": [
      "                                                                                \r"
     ]
    }
   ],
   "source": [
    "# Group by the first five digits of the zip code and count the occurrences\n",
    "df_zipcode_histogram = df.groupBy(\"Zipcode\").agg(count(\"*\").alias(\"count\"))\n",
    "\n",
    "# Display the top 10 zip codes by frequency\n",
    "df_zipcode_histogram.orderBy(\"count\", ascending=False).show(10, truncate=False)"
   ]
  },
  {
   "cell_type": "code",
   "execution_count": 47,
   "metadata": {},
   "outputs": [
    {
     "name": "stderr",
     "output_type": "stream",
     "text": [
      "                                                                                \r"
     ]
    },
    {
     "data": {
      "image/png": "[encoded data removed]",
      "text/plain": [
       "<Figure size 1000x600 with 1 Axes>"
      ]
     },
     "metadata": {},
     "output_type": "display_data"
    }
   ],
   "source": [
    "df_zipcode_histogram_pd = df_zipcode_histogram.toPandas()\n",
    "\n",
    "\n",
    "plt.figure(figsize=(10, 6))\n",
    "plt.hist(df_zipcode_histogram_pd['count'], bins=10, color='skyblue', edgecolor='black')\n",
    "plt.xlabel('Count')\n",
    "plt.ylabel('Frequency')\n",
    "plt.title('Histogram of Zipcodes')\n",
    "plt.grid(True)\n",
    "\n",
    "# Show the plot\n",
    "plt.tight_layout()\n",
    "plt.show()"
   ]
  },
  {
   "cell_type": "markdown",
   "metadata": {},
   "source": [
    "### Calling Census API to Get Population by ZCTA"
   ]
  },
  {
   "cell_type": "markdown",
   "metadata": {},
   "source": [
    "Go to this website\n",
    "https://data.census.gov/table?q=demographics&g=860XX00US30318"
   ]
  },
  {
   "cell_type": "markdown",
   "metadata": {},
   "source": [
    "WARNING: very time consuming to run"
   ]
  },
  {
   "cell_type": "code",
   "execution_count": 87,
   "metadata": {},
   "outputs": [
    {
     "data": {
      "text/plain": [
       "59559"
      ]
     },
     "execution_count": 87,
     "metadata": {},
     "output_type": "execute_result"
    }
   ],
   "source": [
    "# Base URL for the Census ACS 2022 Profile API\n",
    "BASE_URL = \"https://api.census.gov/data/2022/acs/acs5/profile\"\n",
    "\n",
    "def get_population_data(zip_code):\n",
    "    params = {\n",
    "        \"get\": \"group(DP05)\",\n",
    "        \"for\": f\"zip code tabulation area:{zip_code}\",\n",
    "        \"key\": \"67c2f8800849799333a9ee74d25c60a4630b3db1\"\n",
    "    }\n",
    "\n",
    "    try:\n",
    "        response = requests.get(BASE_URL, params=params)\n",
    "\n",
    "        if response and response.status_code == 429:\n",
    "            print(f\"Rate limit hit for ZIP code {zip_code}. Waiting 0.5 seconds before retrying...\")\n",
    "            time.sleep(0.6)\n",
    "\n",
    "        if response.status_code != 200:\n",
    "            print(f\"Error: Received status code {response.status_code} for ZIP code {zip_code}\")\n",
    "            return None\n",
    "\n",
    "        # Parse the JSON response\n",
    "        data = response.json()\n",
    "\n",
    "        # Extract the population value from data[1][0]\n",
    "        if len(data) > 1 and len(data[1]) > 0:\n",
    "            population = data[1][0]\n",
    "            return int(population)\n",
    "        else:\n",
    "            print(f\"No valid data found for ZIP code {zip_code}.\")\n",
    "            return None\n",
    "\n",
    "    except requests.exceptions.RequestException as e:\n",
    "        print(f\"Error: {e} for ZIP code {zip_code}\")\n",
    "        return None\n",
    "\n",
    "    except ValueError as e:\n",
    "        print(f\"JSON Parsing Error: {e} for ZIP code {zip_code}\")\n",
    "        return None\n",
    "\n",
    "# Example usage\n",
    "get_population_data(\"30318\")"
   ]
  },
  {
   "cell_type": "code",
   "execution_count": 96,
   "metadata": {},
   "outputs": [
    {
     "name": "stdout",
     "output_type": "stream",
     "text": [
      "Error: Received status code 204 for ZIP code 20041\n",
      "Error: Received status code 204 for ZIP code 60666\n",
      "Error: Received status code 204 for ZIP code 37240\n",
      "Error: Received status code 204 for ZIP code 33199\n",
      "Error: Received status code 204 for ZIP code 80225\n",
      "Processed 4000 ZIP codes out of 20305\n",
      "Processed 5000 ZIP codes out of 20305\n",
      "Error: Received status code 204 for ZIP code 37246\n",
      "Error: Received status code 204 for ZIP code 80523\n",
      "Error: Received status code 204 for ZIP code 22649\n",
      "Error: Received status code 204 for ZIP code 65211\n",
      "Error: Received status code 204 for ZIP code 91523\n",
      "Processed 6000 ZIP codes out of 20305\n",
      "Error: Received status code 204 for ZIP code 95192\n",
      "Error: Received status code 204 for ZIP code 62071\n",
      "Processed 7000 ZIP codes out of 20305\n",
      "Error: Received status code 204 for ZIP code 36349\n",
      "Error: Received status code 204 for ZIP code 32611\n",
      "Error: Received status code 204 for ZIP code 10104\n",
      "Error: Received status code 204 for ZIP code 32815\n",
      "Error: Received status code 204 for ZIP code 23273\n",
      "Processed 8000 ZIP codes out of 20305\n",
      "Error: Received status code 204 for ZIP code 91522\n",
      "Error: Received status code 204 for ZIP code 29808\n",
      "Error: Received status code 204 for ZIP code 16850\n",
      "Error: Received status code 204 for ZIP code 20201\n",
      "Error: Received status code 204 for ZIP code 33116\n",
      "Error: Received status code 204 for ZIP code 94143\n",
      "Error: Received status code 204 for ZIP code 91521\n",
      "Processed 9000 ZIP codes out of 20305\n",
      "Error: Received status code 204 for ZIP code 20192\n",
      "Error: Received status code 204 for ZIP code 59402\n",
      "Error: Received status code 204 for ZIP code 17877\n",
      "Processed 10000 ZIP codes out of 20305\n",
      "Processed 11000 ZIP codes out of 20305\n",
      "Error: Received status code 204 for ZIP code 94035\n",
      "Processed 12000 ZIP codes out of 20305\n",
      "Error: Received status code 204 for ZIP code 23463\n",
      "Processed 13000 ZIP codes out of 20305\n",
      "Error: Received status code 204 for ZIP code 30320\n",
      "Error: Received status code 204 for ZIP code 70504\n",
      "Error: Received status code 204 for ZIP code 97010\n",
      "Processed 14000 ZIP codes out of 20305\n",
      "Error: Received status code 204 for ZIP code 95724\n",
      "Error: Received status code 204 for ZIP code 95836\n",
      "Processed 15000 ZIP codes out of 20305\n",
      "Error: Received status code 204 for ZIP code 10158\n",
      "Processed 16000 ZIP codes out of 20305\n"
     ]
    },
    {
     "ename": "KeyboardInterrupt",
     "evalue": "",
     "output_type": "error",
     "traceback": [
      "\u001b[0;31m---------------------------------------------------------------------------\u001b[0m",
      "\u001b[0;31mKeyboardInterrupt\u001b[0m                         Traceback (most recent call last)",
      "Cell \u001b[0;32mIn[96], line 9\u001b[0m\n\u001b[1;32m      6\u001b[0m     \u001b[38;5;28;01mcontinue\u001b[39;00m\n\u001b[1;32m      8\u001b[0m \u001b[38;5;66;03m# Update the dictionary\u001b[39;00m\n\u001b[0;32m----> 9\u001b[0m zipcode_population_mapping[zipcode] \u001b[38;5;241m=\u001b[39m \u001b[43mget_population_data\u001b[49m\u001b[43m(\u001b[49m\u001b[43mzipcode\u001b[49m\u001b[43m)\u001b[49m\n\u001b[1;32m     11\u001b[0m \u001b[38;5;66;03m# Print progress for every 1000th ZIP code\u001b[39;00m\n\u001b[1;32m     12\u001b[0m \u001b[38;5;28;01mif\u001b[39;00m (i \u001b[38;5;241m+\u001b[39m \u001b[38;5;241m1\u001b[39m) \u001b[38;5;241m%\u001b[39m \u001b[38;5;241m1000\u001b[39m \u001b[38;5;241m==\u001b[39m \u001b[38;5;241m0\u001b[39m:\n",
      "Cell \u001b[0;32mIn[87], line 12\u001b[0m, in \u001b[0;36mget_population_data\u001b[0;34m(zip_code)\u001b[0m\n\u001b[1;32m      5\u001b[0m params \u001b[38;5;241m=\u001b[39m {\n\u001b[1;32m      6\u001b[0m     \u001b[38;5;124m\"\u001b[39m\u001b[38;5;124mget\u001b[39m\u001b[38;5;124m\"\u001b[39m: \u001b[38;5;124m\"\u001b[39m\u001b[38;5;124mgroup(DP05)\u001b[39m\u001b[38;5;124m\"\u001b[39m,\n\u001b[1;32m      7\u001b[0m     \u001b[38;5;124m\"\u001b[39m\u001b[38;5;124mfor\u001b[39m\u001b[38;5;124m\"\u001b[39m: \u001b[38;5;124mf\u001b[39m\u001b[38;5;124m\"\u001b[39m\u001b[38;5;124mzip code tabulation area:\u001b[39m\u001b[38;5;132;01m{\u001b[39;00mzip_code\u001b[38;5;132;01m}\u001b[39;00m\u001b[38;5;124m\"\u001b[39m,\n\u001b[1;32m      8\u001b[0m     \u001b[38;5;124m\"\u001b[39m\u001b[38;5;124mkey\u001b[39m\u001b[38;5;124m\"\u001b[39m: \u001b[38;5;124m\"\u001b[39m\u001b[38;5;124m67c2f8800849799333a9ee74d25c60a4630b3db1\u001b[39m\u001b[38;5;124m\"\u001b[39m\n\u001b[1;32m      9\u001b[0m }\n\u001b[1;32m     11\u001b[0m \u001b[38;5;28;01mtry\u001b[39;00m:\n\u001b[0;32m---> 12\u001b[0m     response \u001b[38;5;241m=\u001b[39m \u001b[43mrequests\u001b[49m\u001b[38;5;241;43m.\u001b[39;49m\u001b[43mget\u001b[49m\u001b[43m(\u001b[49m\u001b[43mBASE_URL\u001b[49m\u001b[43m,\u001b[49m\u001b[43m \u001b[49m\u001b[43mparams\u001b[49m\u001b[38;5;241;43m=\u001b[39;49m\u001b[43mparams\u001b[49m\u001b[43m)\u001b[49m\n\u001b[1;32m     14\u001b[0m     \u001b[38;5;28;01mif\u001b[39;00m response \u001b[38;5;129;01mand\u001b[39;00m response\u001b[38;5;241m.\u001b[39mstatus_code \u001b[38;5;241m==\u001b[39m \u001b[38;5;241m429\u001b[39m:\n\u001b[1;32m     15\u001b[0m         \u001b[38;5;28mprint\u001b[39m(\u001b[38;5;124mf\u001b[39m\u001b[38;5;124m\"\u001b[39m\u001b[38;5;124mRate limit hit for ZIP code \u001b[39m\u001b[38;5;132;01m{\u001b[39;00mzip_code\u001b[38;5;132;01m}\u001b[39;00m\u001b[38;5;124m. Waiting 0.5 seconds before retrying...\u001b[39m\u001b[38;5;124m\"\u001b[39m)\n",
      "File \u001b[0;32m~/ISYE7406-Project/.venv/lib/python3.11/site-packages/requests/api.py:73\u001b[0m, in \u001b[0;36mget\u001b[0;34m(url, params, **kwargs)\u001b[0m\n\u001b[1;32m     62\u001b[0m \u001b[38;5;28;01mdef\u001b[39;00m \u001b[38;5;21mget\u001b[39m(url, params\u001b[38;5;241m=\u001b[39m\u001b[38;5;28;01mNone\u001b[39;00m, \u001b[38;5;241m*\u001b[39m\u001b[38;5;241m*\u001b[39mkwargs):\n\u001b[1;32m     63\u001b[0m \u001b[38;5;250m    \u001b[39m\u001b[38;5;124mr\u001b[39m\u001b[38;5;124;03m\"\"\"Sends a GET request.\u001b[39;00m\n\u001b[1;32m     64\u001b[0m \n\u001b[1;32m     65\u001b[0m \u001b[38;5;124;03m    :param url: URL for the new :class:`Request` object.\u001b[39;00m\n\u001b[0;32m   (...)\u001b[0m\n\u001b[1;32m     70\u001b[0m \u001b[38;5;124;03m    :rtype: requests.Response\u001b[39;00m\n\u001b[1;32m     71\u001b[0m \u001b[38;5;124;03m    \"\"\"\u001b[39;00m\n\u001b[0;32m---> 73\u001b[0m     \u001b[38;5;28;01mreturn\u001b[39;00m \u001b[43mrequest\u001b[49m\u001b[43m(\u001b[49m\u001b[38;5;124;43m\"\u001b[39;49m\u001b[38;5;124;43mget\u001b[39;49m\u001b[38;5;124;43m\"\u001b[39;49m\u001b[43m,\u001b[49m\u001b[43m \u001b[49m\u001b[43murl\u001b[49m\u001b[43m,\u001b[49m\u001b[43m \u001b[49m\u001b[43mparams\u001b[49m\u001b[38;5;241;43m=\u001b[39;49m\u001b[43mparams\u001b[49m\u001b[43m,\u001b[49m\u001b[43m \u001b[49m\u001b[38;5;241;43m*\u001b[39;49m\u001b[38;5;241;43m*\u001b[39;49m\u001b[43mkwargs\u001b[49m\u001b[43m)\u001b[49m\n",
      "File \u001b[0;32m~/ISYE7406-Project/.venv/lib/python3.11/site-packages/requests/api.py:59\u001b[0m, in \u001b[0;36mrequest\u001b[0;34m(method, url, **kwargs)\u001b[0m\n\u001b[1;32m     55\u001b[0m \u001b[38;5;66;03m# By using the 'with' statement we are sure the session is closed, thus we\u001b[39;00m\n\u001b[1;32m     56\u001b[0m \u001b[38;5;66;03m# avoid leaving sockets open which can trigger a ResourceWarning in some\u001b[39;00m\n\u001b[1;32m     57\u001b[0m \u001b[38;5;66;03m# cases, and look like a memory leak in others.\u001b[39;00m\n\u001b[1;32m     58\u001b[0m \u001b[38;5;28;01mwith\u001b[39;00m sessions\u001b[38;5;241m.\u001b[39mSession() \u001b[38;5;28;01mas\u001b[39;00m session:\n\u001b[0;32m---> 59\u001b[0m     \u001b[38;5;28;01mreturn\u001b[39;00m \u001b[43msession\u001b[49m\u001b[38;5;241;43m.\u001b[39;49m\u001b[43mrequest\u001b[49m\u001b[43m(\u001b[49m\u001b[43mmethod\u001b[49m\u001b[38;5;241;43m=\u001b[39;49m\u001b[43mmethod\u001b[49m\u001b[43m,\u001b[49m\u001b[43m \u001b[49m\u001b[43murl\u001b[49m\u001b[38;5;241;43m=\u001b[39;49m\u001b[43murl\u001b[49m\u001b[43m,\u001b[49m\u001b[43m \u001b[49m\u001b[38;5;241;43m*\u001b[39;49m\u001b[38;5;241;43m*\u001b[39;49m\u001b[43mkwargs\u001b[49m\u001b[43m)\u001b[49m\n",
      "File \u001b[0;32m~/ISYE7406-Project/.venv/lib/python3.11/site-packages/requests/sessions.py:589\u001b[0m, in \u001b[0;36mSession.request\u001b[0;34m(self, method, url, params, data, headers, cookies, files, auth, timeout, allow_redirects, proxies, hooks, stream, verify, cert, json)\u001b[0m\n\u001b[1;32m    584\u001b[0m send_kwargs \u001b[38;5;241m=\u001b[39m {\n\u001b[1;32m    585\u001b[0m     \u001b[38;5;124m\"\u001b[39m\u001b[38;5;124mtimeout\u001b[39m\u001b[38;5;124m\"\u001b[39m: timeout,\n\u001b[1;32m    586\u001b[0m     \u001b[38;5;124m\"\u001b[39m\u001b[38;5;124mallow_redirects\u001b[39m\u001b[38;5;124m\"\u001b[39m: allow_redirects,\n\u001b[1;32m    587\u001b[0m }\n\u001b[1;32m    588\u001b[0m send_kwargs\u001b[38;5;241m.\u001b[39mupdate(settings)\n\u001b[0;32m--> 589\u001b[0m resp \u001b[38;5;241m=\u001b[39m \u001b[38;5;28;43mself\u001b[39;49m\u001b[38;5;241;43m.\u001b[39;49m\u001b[43msend\u001b[49m\u001b[43m(\u001b[49m\u001b[43mprep\u001b[49m\u001b[43m,\u001b[49m\u001b[43m \u001b[49m\u001b[38;5;241;43m*\u001b[39;49m\u001b[38;5;241;43m*\u001b[39;49m\u001b[43msend_kwargs\u001b[49m\u001b[43m)\u001b[49m\n\u001b[1;32m    591\u001b[0m \u001b[38;5;28;01mreturn\u001b[39;00m resp\n",
      "File \u001b[0;32m~/ISYE7406-Project/.venv/lib/python3.11/site-packages/requests/sessions.py:703\u001b[0m, in \u001b[0;36mSession.send\u001b[0;34m(self, request, **kwargs)\u001b[0m\n\u001b[1;32m    700\u001b[0m start \u001b[38;5;241m=\u001b[39m preferred_clock()\n\u001b[1;32m    702\u001b[0m \u001b[38;5;66;03m# Send the request\u001b[39;00m\n\u001b[0;32m--> 703\u001b[0m r \u001b[38;5;241m=\u001b[39m \u001b[43madapter\u001b[49m\u001b[38;5;241;43m.\u001b[39;49m\u001b[43msend\u001b[49m\u001b[43m(\u001b[49m\u001b[43mrequest\u001b[49m\u001b[43m,\u001b[49m\u001b[43m \u001b[49m\u001b[38;5;241;43m*\u001b[39;49m\u001b[38;5;241;43m*\u001b[39;49m\u001b[43mkwargs\u001b[49m\u001b[43m)\u001b[49m\n\u001b[1;32m    705\u001b[0m \u001b[38;5;66;03m# Total elapsed time of the request (approximately)\u001b[39;00m\n\u001b[1;32m    706\u001b[0m elapsed \u001b[38;5;241m=\u001b[39m preferred_clock() \u001b[38;5;241m-\u001b[39m start\n",
      "File \u001b[0;32m~/ISYE7406-Project/.venv/lib/python3.11/site-packages/requests/adapters.py:667\u001b[0m, in \u001b[0;36mHTTPAdapter.send\u001b[0;34m(self, request, stream, timeout, verify, cert, proxies)\u001b[0m\n\u001b[1;32m    664\u001b[0m     timeout \u001b[38;5;241m=\u001b[39m TimeoutSauce(connect\u001b[38;5;241m=\u001b[39mtimeout, read\u001b[38;5;241m=\u001b[39mtimeout)\n\u001b[1;32m    666\u001b[0m \u001b[38;5;28;01mtry\u001b[39;00m:\n\u001b[0;32m--> 667\u001b[0m     resp \u001b[38;5;241m=\u001b[39m \u001b[43mconn\u001b[49m\u001b[38;5;241;43m.\u001b[39;49m\u001b[43murlopen\u001b[49m\u001b[43m(\u001b[49m\n\u001b[1;32m    668\u001b[0m \u001b[43m        \u001b[49m\u001b[43mmethod\u001b[49m\u001b[38;5;241;43m=\u001b[39;49m\u001b[43mrequest\u001b[49m\u001b[38;5;241;43m.\u001b[39;49m\u001b[43mmethod\u001b[49m\u001b[43m,\u001b[49m\n\u001b[1;32m    669\u001b[0m \u001b[43m        \u001b[49m\u001b[43murl\u001b[49m\u001b[38;5;241;43m=\u001b[39;49m\u001b[43murl\u001b[49m\u001b[43m,\u001b[49m\n\u001b[1;32m    670\u001b[0m \u001b[43m        \u001b[49m\u001b[43mbody\u001b[49m\u001b[38;5;241;43m=\u001b[39;49m\u001b[43mrequest\u001b[49m\u001b[38;5;241;43m.\u001b[39;49m\u001b[43mbody\u001b[49m\u001b[43m,\u001b[49m\n\u001b[1;32m    671\u001b[0m \u001b[43m        \u001b[49m\u001b[43mheaders\u001b[49m\u001b[38;5;241;43m=\u001b[39;49m\u001b[43mrequest\u001b[49m\u001b[38;5;241;43m.\u001b[39;49m\u001b[43mheaders\u001b[49m\u001b[43m,\u001b[49m\n\u001b[1;32m    672\u001b[0m \u001b[43m        \u001b[49m\u001b[43mredirect\u001b[49m\u001b[38;5;241;43m=\u001b[39;49m\u001b[38;5;28;43;01mFalse\u001b[39;49;00m\u001b[43m,\u001b[49m\n\u001b[1;32m    673\u001b[0m \u001b[43m        \u001b[49m\u001b[43massert_same_host\u001b[49m\u001b[38;5;241;43m=\u001b[39;49m\u001b[38;5;28;43;01mFalse\u001b[39;49;00m\u001b[43m,\u001b[49m\n\u001b[1;32m    674\u001b[0m \u001b[43m        \u001b[49m\u001b[43mpreload_content\u001b[49m\u001b[38;5;241;43m=\u001b[39;49m\u001b[38;5;28;43;01mFalse\u001b[39;49;00m\u001b[43m,\u001b[49m\n\u001b[1;32m    675\u001b[0m \u001b[43m        \u001b[49m\u001b[43mdecode_content\u001b[49m\u001b[38;5;241;43m=\u001b[39;49m\u001b[38;5;28;43;01mFalse\u001b[39;49;00m\u001b[43m,\u001b[49m\n\u001b[1;32m    676\u001b[0m \u001b[43m        \u001b[49m\u001b[43mretries\u001b[49m\u001b[38;5;241;43m=\u001b[39;49m\u001b[38;5;28;43mself\u001b[39;49m\u001b[38;5;241;43m.\u001b[39;49m\u001b[43mmax_retries\u001b[49m\u001b[43m,\u001b[49m\n\u001b[1;32m    677\u001b[0m \u001b[43m        \u001b[49m\u001b[43mtimeout\u001b[49m\u001b[38;5;241;43m=\u001b[39;49m\u001b[43mtimeout\u001b[49m\u001b[43m,\u001b[49m\n\u001b[1;32m    678\u001b[0m \u001b[43m        \u001b[49m\u001b[43mchunked\u001b[49m\u001b[38;5;241;43m=\u001b[39;49m\u001b[43mchunked\u001b[49m\u001b[43m,\u001b[49m\n\u001b[1;32m    679\u001b[0m \u001b[43m    \u001b[49m\u001b[43m)\u001b[49m\n\u001b[1;32m    681\u001b[0m \u001b[38;5;28;01mexcept\u001b[39;00m (ProtocolError, \u001b[38;5;167;01mOSError\u001b[39;00m) \u001b[38;5;28;01mas\u001b[39;00m err:\n\u001b[1;32m    682\u001b[0m     \u001b[38;5;28;01mraise\u001b[39;00m \u001b[38;5;167;01mConnectionError\u001b[39;00m(err, request\u001b[38;5;241m=\u001b[39mrequest)\n",
      "File \u001b[0;32m~/ISYE7406-Project/.venv/lib/python3.11/site-packages/urllib3/connectionpool.py:789\u001b[0m, in \u001b[0;36mHTTPConnectionPool.urlopen\u001b[0;34m(self, method, url, body, headers, retries, redirect, assert_same_host, timeout, pool_timeout, release_conn, chunked, body_pos, preload_content, decode_content, **response_kw)\u001b[0m\n\u001b[1;32m    786\u001b[0m response_conn \u001b[38;5;241m=\u001b[39m conn \u001b[38;5;28;01mif\u001b[39;00m \u001b[38;5;129;01mnot\u001b[39;00m release_conn \u001b[38;5;28;01melse\u001b[39;00m \u001b[38;5;28;01mNone\u001b[39;00m\n\u001b[1;32m    788\u001b[0m \u001b[38;5;66;03m# Make the request on the HTTPConnection object\u001b[39;00m\n\u001b[0;32m--> 789\u001b[0m response \u001b[38;5;241m=\u001b[39m \u001b[38;5;28;43mself\u001b[39;49m\u001b[38;5;241;43m.\u001b[39;49m\u001b[43m_make_request\u001b[49m\u001b[43m(\u001b[49m\n\u001b[1;32m    790\u001b[0m \u001b[43m    \u001b[49m\u001b[43mconn\u001b[49m\u001b[43m,\u001b[49m\n\u001b[1;32m    791\u001b[0m \u001b[43m    \u001b[49m\u001b[43mmethod\u001b[49m\u001b[43m,\u001b[49m\n\u001b[1;32m    792\u001b[0m \u001b[43m    \u001b[49m\u001b[43murl\u001b[49m\u001b[43m,\u001b[49m\n\u001b[1;32m    793\u001b[0m \u001b[43m    \u001b[49m\u001b[43mtimeout\u001b[49m\u001b[38;5;241;43m=\u001b[39;49m\u001b[43mtimeout_obj\u001b[49m\u001b[43m,\u001b[49m\n\u001b[1;32m    794\u001b[0m \u001b[43m    \u001b[49m\u001b[43mbody\u001b[49m\u001b[38;5;241;43m=\u001b[39;49m\u001b[43mbody\u001b[49m\u001b[43m,\u001b[49m\n\u001b[1;32m    795\u001b[0m \u001b[43m    \u001b[49m\u001b[43mheaders\u001b[49m\u001b[38;5;241;43m=\u001b[39;49m\u001b[43mheaders\u001b[49m\u001b[43m,\u001b[49m\n\u001b[1;32m    796\u001b[0m \u001b[43m    \u001b[49m\u001b[43mchunked\u001b[49m\u001b[38;5;241;43m=\u001b[39;49m\u001b[43mchunked\u001b[49m\u001b[43m,\u001b[49m\n\u001b[1;32m    797\u001b[0m \u001b[43m    \u001b[49m\u001b[43mretries\u001b[49m\u001b[38;5;241;43m=\u001b[39;49m\u001b[43mretries\u001b[49m\u001b[43m,\u001b[49m\n\u001b[1;32m    798\u001b[0m \u001b[43m    \u001b[49m\u001b[43mresponse_conn\u001b[49m\u001b[38;5;241;43m=\u001b[39;49m\u001b[43mresponse_conn\u001b[49m\u001b[43m,\u001b[49m\n\u001b[1;32m    799\u001b[0m \u001b[43m    \u001b[49m\u001b[43mpreload_content\u001b[49m\u001b[38;5;241;43m=\u001b[39;49m\u001b[43mpreload_content\u001b[49m\u001b[43m,\u001b[49m\n\u001b[1;32m    800\u001b[0m \u001b[43m    \u001b[49m\u001b[43mdecode_content\u001b[49m\u001b[38;5;241;43m=\u001b[39;49m\u001b[43mdecode_content\u001b[49m\u001b[43m,\u001b[49m\n\u001b[1;32m    801\u001b[0m \u001b[43m    \u001b[49m\u001b[38;5;241;43m*\u001b[39;49m\u001b[38;5;241;43m*\u001b[39;49m\u001b[43mresponse_kw\u001b[49m\u001b[43m,\u001b[49m\n\u001b[1;32m    802\u001b[0m \u001b[43m\u001b[49m\u001b[43m)\u001b[49m\n\u001b[1;32m    804\u001b[0m \u001b[38;5;66;03m# Everything went great!\u001b[39;00m\n\u001b[1;32m    805\u001b[0m clean_exit \u001b[38;5;241m=\u001b[39m \u001b[38;5;28;01mTrue\u001b[39;00m\n",
      "File \u001b[0;32m~/ISYE7406-Project/.venv/lib/python3.11/site-packages/urllib3/connectionpool.py:536\u001b[0m, in \u001b[0;36mHTTPConnectionPool._make_request\u001b[0;34m(self, conn, method, url, body, headers, retries, timeout, chunked, response_conn, preload_content, decode_content, enforce_content_length)\u001b[0m\n\u001b[1;32m    534\u001b[0m \u001b[38;5;66;03m# Receive the response from the server\u001b[39;00m\n\u001b[1;32m    535\u001b[0m \u001b[38;5;28;01mtry\u001b[39;00m:\n\u001b[0;32m--> 536\u001b[0m     response \u001b[38;5;241m=\u001b[39m \u001b[43mconn\u001b[49m\u001b[38;5;241;43m.\u001b[39;49m\u001b[43mgetresponse\u001b[49m\u001b[43m(\u001b[49m\u001b[43m)\u001b[49m\n\u001b[1;32m    537\u001b[0m \u001b[38;5;28;01mexcept\u001b[39;00m (BaseSSLError, \u001b[38;5;167;01mOSError\u001b[39;00m) \u001b[38;5;28;01mas\u001b[39;00m e:\n\u001b[1;32m    538\u001b[0m     \u001b[38;5;28mself\u001b[39m\u001b[38;5;241m.\u001b[39m_raise_timeout(err\u001b[38;5;241m=\u001b[39me, url\u001b[38;5;241m=\u001b[39murl, timeout_value\u001b[38;5;241m=\u001b[39mread_timeout)\n",
      "File \u001b[0;32m~/ISYE7406-Project/.venv/lib/python3.11/site-packages/urllib3/connection.py:507\u001b[0m, in \u001b[0;36mHTTPConnection.getresponse\u001b[0;34m(self)\u001b[0m\n\u001b[1;32m    504\u001b[0m \u001b[38;5;28;01mfrom\u001b[39;00m \u001b[38;5;21;01m.\u001b[39;00m\u001b[38;5;21;01mresponse\u001b[39;00m \u001b[38;5;28;01mimport\u001b[39;00m HTTPResponse\n\u001b[1;32m    506\u001b[0m \u001b[38;5;66;03m# Get the response from http.client.HTTPConnection\u001b[39;00m\n\u001b[0;32m--> 507\u001b[0m httplib_response \u001b[38;5;241m=\u001b[39m \u001b[38;5;28;43msuper\u001b[39;49m\u001b[43m(\u001b[49m\u001b[43m)\u001b[49m\u001b[38;5;241;43m.\u001b[39;49m\u001b[43mgetresponse\u001b[49m\u001b[43m(\u001b[49m\u001b[43m)\u001b[49m\n\u001b[1;32m    509\u001b[0m \u001b[38;5;28;01mtry\u001b[39;00m:\n\u001b[1;32m    510\u001b[0m     assert_header_parsing(httplib_response\u001b[38;5;241m.\u001b[39mmsg)\n",
      "File \u001b[0;32m/usr/lib/python3.11/http/client.py:1374\u001b[0m, in \u001b[0;36mHTTPConnection.getresponse\u001b[0;34m(self)\u001b[0m\n\u001b[1;32m   1372\u001b[0m \u001b[38;5;28;01mtry\u001b[39;00m:\n\u001b[1;32m   1373\u001b[0m     \u001b[38;5;28;01mtry\u001b[39;00m:\n\u001b[0;32m-> 1374\u001b[0m         \u001b[43mresponse\u001b[49m\u001b[38;5;241;43m.\u001b[39;49m\u001b[43mbegin\u001b[49m\u001b[43m(\u001b[49m\u001b[43m)\u001b[49m\n\u001b[1;32m   1375\u001b[0m     \u001b[38;5;28;01mexcept\u001b[39;00m \u001b[38;5;167;01mConnectionError\u001b[39;00m:\n\u001b[1;32m   1376\u001b[0m         \u001b[38;5;28mself\u001b[39m\u001b[38;5;241m.\u001b[39mclose()\n",
      "File \u001b[0;32m/usr/lib/python3.11/http/client.py:318\u001b[0m, in \u001b[0;36mHTTPResponse.begin\u001b[0;34m(self)\u001b[0m\n\u001b[1;32m    316\u001b[0m \u001b[38;5;66;03m# read until we get a non-100 response\u001b[39;00m\n\u001b[1;32m    317\u001b[0m \u001b[38;5;28;01mwhile\u001b[39;00m \u001b[38;5;28;01mTrue\u001b[39;00m:\n\u001b[0;32m--> 318\u001b[0m     version, status, reason \u001b[38;5;241m=\u001b[39m \u001b[38;5;28;43mself\u001b[39;49m\u001b[38;5;241;43m.\u001b[39;49m\u001b[43m_read_status\u001b[49m\u001b[43m(\u001b[49m\u001b[43m)\u001b[49m\n\u001b[1;32m    319\u001b[0m     \u001b[38;5;28;01mif\u001b[39;00m status \u001b[38;5;241m!=\u001b[39m CONTINUE:\n\u001b[1;32m    320\u001b[0m         \u001b[38;5;28;01mbreak\u001b[39;00m\n",
      "File \u001b[0;32m/usr/lib/python3.11/http/client.py:279\u001b[0m, in \u001b[0;36mHTTPResponse._read_status\u001b[0;34m(self)\u001b[0m\n\u001b[1;32m    278\u001b[0m \u001b[38;5;28;01mdef\u001b[39;00m \u001b[38;5;21m_read_status\u001b[39m(\u001b[38;5;28mself\u001b[39m):\n\u001b[0;32m--> 279\u001b[0m     line \u001b[38;5;241m=\u001b[39m \u001b[38;5;28mstr\u001b[39m(\u001b[38;5;28mself\u001b[39m\u001b[38;5;241m.\u001b[39mfp\u001b[38;5;241m.\u001b[39mreadline(_MAXLINE \u001b[38;5;241m+\u001b[39m \u001b[38;5;241m1\u001b[39m), \u001b[38;5;124m\"\u001b[39m\u001b[38;5;124miso-8859-1\u001b[39m\u001b[38;5;124m\"\u001b[39m)\n\u001b[1;32m    280\u001b[0m     \u001b[38;5;28;01mif\u001b[39;00m \u001b[38;5;28mlen\u001b[39m(line) \u001b[38;5;241m>\u001b[39m _MAXLINE:\n\u001b[1;32m    281\u001b[0m         \u001b[38;5;28;01mraise\u001b[39;00m LineTooLong(\u001b[38;5;124m\"\u001b[39m\u001b[38;5;124mstatus line\u001b[39m\u001b[38;5;124m\"\u001b[39m)\n",
      "File \u001b[0;32m/usr/lib/python3.11/socket.py:706\u001b[0m, in \u001b[0;36mSocketIO.readinto\u001b[0;34m(self, b)\u001b[0m\n\u001b[1;32m    704\u001b[0m \u001b[38;5;28;01mwhile\u001b[39;00m \u001b[38;5;28;01mTrue\u001b[39;00m:\n\u001b[1;32m    705\u001b[0m     \u001b[38;5;28;01mtry\u001b[39;00m:\n\u001b[0;32m--> 706\u001b[0m         \u001b[38;5;28;01mreturn\u001b[39;00m \u001b[38;5;28;43mself\u001b[39;49m\u001b[38;5;241;43m.\u001b[39;49m\u001b[43m_sock\u001b[49m\u001b[38;5;241;43m.\u001b[39;49m\u001b[43mrecv_into\u001b[49m\u001b[43m(\u001b[49m\u001b[43mb\u001b[49m\u001b[43m)\u001b[49m\n\u001b[1;32m    707\u001b[0m     \u001b[38;5;28;01mexcept\u001b[39;00m timeout:\n\u001b[1;32m    708\u001b[0m         \u001b[38;5;28mself\u001b[39m\u001b[38;5;241m.\u001b[39m_timeout_occurred \u001b[38;5;241m=\u001b[39m \u001b[38;5;28;01mTrue\u001b[39;00m\n",
      "File \u001b[0;32m/usr/lib/python3.11/ssl.py:1311\u001b[0m, in \u001b[0;36mSSLSocket.recv_into\u001b[0;34m(self, buffer, nbytes, flags)\u001b[0m\n\u001b[1;32m   1307\u001b[0m     \u001b[38;5;28;01mif\u001b[39;00m flags \u001b[38;5;241m!=\u001b[39m \u001b[38;5;241m0\u001b[39m:\n\u001b[1;32m   1308\u001b[0m         \u001b[38;5;28;01mraise\u001b[39;00m \u001b[38;5;167;01mValueError\u001b[39;00m(\n\u001b[1;32m   1309\u001b[0m           \u001b[38;5;124m\"\u001b[39m\u001b[38;5;124mnon-zero flags not allowed in calls to recv_into() on \u001b[39m\u001b[38;5;132;01m%s\u001b[39;00m\u001b[38;5;124m\"\u001b[39m \u001b[38;5;241m%\u001b[39m\n\u001b[1;32m   1310\u001b[0m           \u001b[38;5;28mself\u001b[39m\u001b[38;5;241m.\u001b[39m\u001b[38;5;18m__class__\u001b[39m)\n\u001b[0;32m-> 1311\u001b[0m     \u001b[38;5;28;01mreturn\u001b[39;00m \u001b[38;5;28;43mself\u001b[39;49m\u001b[38;5;241;43m.\u001b[39;49m\u001b[43mread\u001b[49m\u001b[43m(\u001b[49m\u001b[43mnbytes\u001b[49m\u001b[43m,\u001b[49m\u001b[43m \u001b[49m\u001b[43mbuffer\u001b[49m\u001b[43m)\u001b[49m\n\u001b[1;32m   1312\u001b[0m \u001b[38;5;28;01melse\u001b[39;00m:\n\u001b[1;32m   1313\u001b[0m     \u001b[38;5;28;01mreturn\u001b[39;00m \u001b[38;5;28msuper\u001b[39m()\u001b[38;5;241m.\u001b[39mrecv_into(buffer, nbytes, flags)\n",
      "File \u001b[0;32m/usr/lib/python3.11/ssl.py:1167\u001b[0m, in \u001b[0;36mSSLSocket.read\u001b[0;34m(self, len, buffer)\u001b[0m\n\u001b[1;32m   1165\u001b[0m \u001b[38;5;28;01mtry\u001b[39;00m:\n\u001b[1;32m   1166\u001b[0m     \u001b[38;5;28;01mif\u001b[39;00m buffer \u001b[38;5;129;01mis\u001b[39;00m \u001b[38;5;129;01mnot\u001b[39;00m \u001b[38;5;28;01mNone\u001b[39;00m:\n\u001b[0;32m-> 1167\u001b[0m         \u001b[38;5;28;01mreturn\u001b[39;00m \u001b[38;5;28;43mself\u001b[39;49m\u001b[38;5;241;43m.\u001b[39;49m\u001b[43m_sslobj\u001b[49m\u001b[38;5;241;43m.\u001b[39;49m\u001b[43mread\u001b[49m\u001b[43m(\u001b[49m\u001b[38;5;28;43mlen\u001b[39;49m\u001b[43m,\u001b[49m\u001b[43m \u001b[49m\u001b[43mbuffer\u001b[49m\u001b[43m)\u001b[49m\n\u001b[1;32m   1168\u001b[0m     \u001b[38;5;28;01melse\u001b[39;00m:\n\u001b[1;32m   1169\u001b[0m         \u001b[38;5;28;01mreturn\u001b[39;00m \u001b[38;5;28mself\u001b[39m\u001b[38;5;241m.\u001b[39m_sslobj\u001b[38;5;241m.\u001b[39mread(\u001b[38;5;28mlen\u001b[39m)\n",
      "\u001b[0;31mKeyboardInterrupt\u001b[0m: "
     ]
    }
   ],
   "source": [
    "# Iterate over unique zip codes and fetch population data\n",
    "for i, zipcode in enumerate(unique_zipcodes):\n",
    "    try:\n",
    "        # Skip if population data already exists for this zip code\n",
    "        if zipcode_population_mapping.get(zipcode) is not None:\n",
    "            continue\n",
    "        \n",
    "        # Update the dictionary\n",
    "        zipcode_population_mapping[zipcode] = get_population_data(zipcode)\n",
    "        \n",
    "        # Print progress for every 1000th ZIP code\n",
    "        if (i + 1) % 1000 == 0:\n",
    "            print(f\"Processed {i + 1} ZIP codes out of {len(unique_zipcodes)}\")\n",
    "\n",
    "    except Exception as e:\n",
    "        print(f\"An error occurred while processing ZIP code {zipcode}: {e}\")\n",
    "        continue  # Continue to the next ZIP code if an error occurs"
   ]
  },
  {
   "cell_type": "code",
   "execution_count": 67,
   "metadata": {},
   "outputs": [
    {
     "data": {
      "text/plain": [
       "20305"
      ]
     },
     "execution_count": 67,
     "metadata": {},
     "output_type": "execute_result"
    }
   ],
   "source": [
    "len(zipcode_population_mapping)"
   ]
  },
  {
   "cell_type": "code",
   "execution_count": null,
   "metadata": {},
   "outputs": [],
   "source": [
    "broadcast_zipcode_population = spark.sparkContext.broadcast(zipcode_population_mapping)"
   ]
  },
  {
   "cell_type": "code",
   "execution_count": 81,
   "metadata": {},
   "outputs": [
    {
     "name": "stdout",
     "output_type": "stream",
     "text": [
      "Number of ZIP codes with non-null population data: 3543\n"
     ]
    }
   ],
   "source": [
    "non_null_count = len([zipcode for zipcode, population in zipcode_population_mapping.items() if population is not None])\n",
    "\n",
    "print(f\"Number of ZIP codes with non-null population data: {non_null_count}\")"
   ]
  },
  {
   "cell_type": "markdown",
   "metadata": {},
   "source": [
    "## Summary of Variables"
   ]
  },
  {
   "cell_type": "code",
   "execution_count": 58,
   "metadata": {},
   "outputs": [
    {
     "name": "stdout",
     "output_type": "stream",
     "text": [
      "root\n",
      " |-- Severity: integer (nullable = true)\n",
      " |-- Start_Time: timestamp (nullable = true)\n",
      " |-- End_Time: timestamp (nullable = true)\n",
      " |-- Distance(mi): double (nullable = true)\n",
      " |-- Zipcode: string (nullable = true)\n",
      " |-- Temperature(F): double (nullable = true)\n",
      " |-- Wind_Chill(F): double (nullable = true)\n",
      " |-- Humidity(%): double (nullable = true)\n",
      " |-- Pressure(in): double (nullable = true)\n",
      " |-- Visibility(mi): double (nullable = true)\n",
      " |-- Wind_Direction: string (nullable = true)\n",
      " |-- Wind_Speed(mph): double (nullable = true)\n",
      " |-- Precipitation(in): double (nullable = true)\n",
      " |-- Sunrise_Sunset: string (nullable = true)\n",
      " |-- Day_Night: integer (nullable = true)\n",
      " |-- duration_minutes: double (nullable = true)\n",
      " |-- day_of_week: integer (nullable = true)\n",
      " |-- month: integer (nullable = true)\n",
      " |-- year: integer (nullable = true)\n",
      "\n"
     ]
    }
   ],
   "source": [
    "df.printSchema()"
   ]
  }
 ],
 "metadata": {
  "kernelspec": {
   "display_name": ".venv",
   "language": "python",
   "name": "python3"
  },
  "language_info": {
   "codemirror_mode": {
    "name": "ipython",
    "version": 3
   },
   "file_extension": ".py",
   "mimetype": "text/x-python",
   "name": "python",
   "nbconvert_exporter": "python",
   "pygments_lexer": "ipython3",
   "version": "3.11.2"
  }
 },
 "nbformat": 4,
 "nbformat_minor": 2
}
