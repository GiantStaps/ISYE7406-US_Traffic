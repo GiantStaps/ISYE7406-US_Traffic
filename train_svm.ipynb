{
 "cells": [
  {
   "cell_type": "markdown",
   "metadata": {},
   "source": [
    "# Getting Started"
   ]
  },
  {
   "cell_type": "code",
   "execution_count": 12,
   "metadata": {},
   "outputs": [],
   "source": [
    "import pandas as pd\n",
    "import numpy as np\n",
    "\n",
    "import joblib # to save the model"
   ]
  },
  {
   "cell_type": "markdown",
   "metadata": {},
   "source": [
    "This training notebook is going to heavily abuse cuml, a GPU-optimized scikit-learn like ML library.\n",
    "\n",
    "If you are not equipped with a GPU, replace all existence of \"cuml\" with \"sklearn\"."
   ]
  },
  {
   "cell_type": "code",
   "execution_count": 2,
   "metadata": {},
   "outputs": [
    {
     "name": "stdout",
     "output_type": "stream",
     "text": [
      "0    1\n",
      "1    2\n",
      "2    3\n",
      "dtype: int64\n"
     ]
    }
   ],
   "source": [
    "import cudf\n",
    "print(cudf.Series([1, 2, 3]))"
   ]
  },
  {
   "cell_type": "code",
   "execution_count": 3,
   "metadata": {},
   "outputs": [],
   "source": [
    "from cuml.svm import SVR\n",
    "from cuml.svm import LinearSVR\n",
    "from cuml.model_selection import train_test_split\n",
    "from cuml.common.device_selection import using_device_type\n",
    "from cuml.preprocessing import StandardScaler\n",
    "from cuml.metrics import mean_absolute_error, mean_squared_error"
   ]
  },
  {
   "cell_type": "markdown",
   "metadata": {},
   "source": [
    "## Dataset Loading - Dummify Categorical Variables"
   ]
  },
  {
   "cell_type": "code",
   "execution_count": 4,
   "metadata": {},
   "outputs": [
    {
     "data": {
      "text/html": [
       "<div>\n",
       "<style scoped>\n",
       "    .dataframe tbody tr th:only-of-type {\n",
       "        vertical-align: middle;\n",
       "    }\n",
       "\n",
       "    .dataframe tbody tr th {\n",
       "        vertical-align: top;\n",
       "    }\n",
       "\n",
       "    .dataframe thead th {\n",
       "        text-align: right;\n",
       "    }\n",
       "</style>\n",
       "<table border=\"1\" class=\"dataframe\">\n",
       "  <thead>\n",
       "    <tr style=\"text-align: right;\">\n",
       "      <th></th>\n",
       "      <th>Severity</th>\n",
       "      <th>Distance(mi)</th>\n",
       "      <th>Temperature(F)</th>\n",
       "      <th>Wind_Chill(F)</th>\n",
       "      <th>Humidity(%)</th>\n",
       "      <th>Pressure(in)</th>\n",
       "      <th>Visibility(mi)</th>\n",
       "      <th>Wind_Speed(mph)</th>\n",
       "      <th>Precipitation(in)</th>\n",
       "      <th>Sunrise_Sunset</th>\n",
       "      <th>Day_Night</th>\n",
       "      <th>duration_minutes</th>\n",
       "      <th>month</th>\n",
       "      <th>year</th>\n",
       "      <th>day_of_week</th>\n",
       "      <th>zipcode_population</th>\n",
       "    </tr>\n",
       "  </thead>\n",
       "  <tbody>\n",
       "    <tr>\n",
       "      <th>0</th>\n",
       "      <td>3</td>\n",
       "      <td>0.010</td>\n",
       "      <td>37.9</td>\n",
       "      <td>35.5</td>\n",
       "      <td>97.0</td>\n",
       "      <td>29.63</td>\n",
       "      <td>7.0</td>\n",
       "      <td>3.5</td>\n",
       "      <td>0.03</td>\n",
       "      <td>Day</td>\n",
       "      <td>1</td>\n",
       "      <td>30.000000</td>\n",
       "      <td>2</td>\n",
       "      <td>2016</td>\n",
       "      <td>1</td>\n",
       "      <td>64746.0</td>\n",
       "    </tr>\n",
       "    <tr>\n",
       "      <th>1</th>\n",
       "      <td>3</td>\n",
       "      <td>0.010</td>\n",
       "      <td>37.4</td>\n",
       "      <td>33.8</td>\n",
       "      <td>100.0</td>\n",
       "      <td>29.62</td>\n",
       "      <td>3.0</td>\n",
       "      <td>4.6</td>\n",
       "      <td>0.02</td>\n",
       "      <td>Day</td>\n",
       "      <td>1</td>\n",
       "      <td>30.000000</td>\n",
       "      <td>2</td>\n",
       "      <td>2016</td>\n",
       "      <td>1</td>\n",
       "      <td>64746.0</td>\n",
       "    </tr>\n",
       "    <tr>\n",
       "      <th>2</th>\n",
       "      <td>3</td>\n",
       "      <td>0.010</td>\n",
       "      <td>37.4</td>\n",
       "      <td>33.8</td>\n",
       "      <td>100.0</td>\n",
       "      <td>29.62</td>\n",
       "      <td>3.0</td>\n",
       "      <td>4.6</td>\n",
       "      <td>0.02</td>\n",
       "      <td>Day</td>\n",
       "      <td>1</td>\n",
       "      <td>30.000000</td>\n",
       "      <td>2</td>\n",
       "      <td>2016</td>\n",
       "      <td>1</td>\n",
       "      <td>58916.0</td>\n",
       "    </tr>\n",
       "    <tr>\n",
       "      <th>3</th>\n",
       "      <td>2</td>\n",
       "      <td>0.010</td>\n",
       "      <td>37.4</td>\n",
       "      <td>33.8</td>\n",
       "      <td>100.0</td>\n",
       "      <td>29.62</td>\n",
       "      <td>3.0</td>\n",
       "      <td>4.6</td>\n",
       "      <td>0.02</td>\n",
       "      <td>Day</td>\n",
       "      <td>1</td>\n",
       "      <td>30.000000</td>\n",
       "      <td>2</td>\n",
       "      <td>2016</td>\n",
       "      <td>1</td>\n",
       "      <td>36724.0</td>\n",
       "    </tr>\n",
       "    <tr>\n",
       "      <th>4</th>\n",
       "      <td>2</td>\n",
       "      <td>0.000</td>\n",
       "      <td>33.8</td>\n",
       "      <td>29.6</td>\n",
       "      <td>100.0</td>\n",
       "      <td>29.62</td>\n",
       "      <td>2.0</td>\n",
       "      <td>4.6</td>\n",
       "      <td>0.01</td>\n",
       "      <td>Day</td>\n",
       "      <td>1</td>\n",
       "      <td>30.000000</td>\n",
       "      <td>2</td>\n",
       "      <td>2016</td>\n",
       "      <td>1</td>\n",
       "      <td>58079.0</td>\n",
       "    </tr>\n",
       "    <tr>\n",
       "      <th>...</th>\n",
       "      <td>...</td>\n",
       "      <td>...</td>\n",
       "      <td>...</td>\n",
       "      <td>...</td>\n",
       "      <td>...</td>\n",
       "      <td>...</td>\n",
       "      <td>...</td>\n",
       "      <td>...</td>\n",
       "      <td>...</td>\n",
       "      <td>...</td>\n",
       "      <td>...</td>\n",
       "      <td>...</td>\n",
       "      <td>...</td>\n",
       "      <td>...</td>\n",
       "      <td>...</td>\n",
       "      <td>...</td>\n",
       "    </tr>\n",
       "    <tr>\n",
       "      <th>5227101</th>\n",
       "      <td>2</td>\n",
       "      <td>0.543</td>\n",
       "      <td>86.0</td>\n",
       "      <td>86.0</td>\n",
       "      <td>40.0</td>\n",
       "      <td>28.92</td>\n",
       "      <td>10.0</td>\n",
       "      <td>13.0</td>\n",
       "      <td>0.00</td>\n",
       "      <td>Day</td>\n",
       "      <td>1</td>\n",
       "      <td>28.600000</td>\n",
       "      <td>8</td>\n",
       "      <td>2019</td>\n",
       "      <td>5</td>\n",
       "      <td>22136.0</td>\n",
       "    </tr>\n",
       "    <tr>\n",
       "      <th>5227102</th>\n",
       "      <td>2</td>\n",
       "      <td>0.338</td>\n",
       "      <td>70.0</td>\n",
       "      <td>70.0</td>\n",
       "      <td>73.0</td>\n",
       "      <td>29.39</td>\n",
       "      <td>10.0</td>\n",
       "      <td>6.0</td>\n",
       "      <td>0.00</td>\n",
       "      <td>Day</td>\n",
       "      <td>1</td>\n",
       "      <td>26.883333</td>\n",
       "      <td>8</td>\n",
       "      <td>2019</td>\n",
       "      <td>5</td>\n",
       "      <td>24201.0</td>\n",
       "    </tr>\n",
       "    <tr>\n",
       "      <th>5227103</th>\n",
       "      <td>2</td>\n",
       "      <td>0.561</td>\n",
       "      <td>73.0</td>\n",
       "      <td>73.0</td>\n",
       "      <td>64.0</td>\n",
       "      <td>29.74</td>\n",
       "      <td>10.0</td>\n",
       "      <td>10.0</td>\n",
       "      <td>0.00</td>\n",
       "      <td>Day</td>\n",
       "      <td>1</td>\n",
       "      <td>28.466667</td>\n",
       "      <td>8</td>\n",
       "      <td>2019</td>\n",
       "      <td>5</td>\n",
       "      <td>14873.0</td>\n",
       "    </tr>\n",
       "    <tr>\n",
       "      <th>5227104</th>\n",
       "      <td>2</td>\n",
       "      <td>0.772</td>\n",
       "      <td>71.0</td>\n",
       "      <td>71.0</td>\n",
       "      <td>81.0</td>\n",
       "      <td>29.62</td>\n",
       "      <td>10.0</td>\n",
       "      <td>8.0</td>\n",
       "      <td>0.00</td>\n",
       "      <td>Day</td>\n",
       "      <td>1</td>\n",
       "      <td>29.350000</td>\n",
       "      <td>8</td>\n",
       "      <td>2019</td>\n",
       "      <td>5</td>\n",
       "      <td>32005.0</td>\n",
       "    </tr>\n",
       "    <tr>\n",
       "      <th>5227105</th>\n",
       "      <td>2</td>\n",
       "      <td>0.537</td>\n",
       "      <td>79.0</td>\n",
       "      <td>79.0</td>\n",
       "      <td>47.0</td>\n",
       "      <td>28.63</td>\n",
       "      <td>7.0</td>\n",
       "      <td>7.0</td>\n",
       "      <td>0.00</td>\n",
       "      <td>Day</td>\n",
       "      <td>1</td>\n",
       "      <td>29.416667</td>\n",
       "      <td>8</td>\n",
       "      <td>2019</td>\n",
       "      <td>5</td>\n",
       "      <td>60025.0</td>\n",
       "    </tr>\n",
       "  </tbody>\n",
       "</table>\n",
       "<p>5227106 rows × 16 columns</p>\n",
       "</div>"
      ],
      "text/plain": [
       "        Severity  Distance(mi)  Temperature(F)  Wind_Chill(F)  Humidity(%)  \\\n",
       "0              3         0.010            37.9           35.5         97.0   \n",
       "1              3         0.010            37.4           33.8        100.0   \n",
       "2              3         0.010            37.4           33.8        100.0   \n",
       "3              2         0.010            37.4           33.8        100.0   \n",
       "4              2         0.000            33.8           29.6        100.0   \n",
       "...          ...           ...             ...            ...          ...   \n",
       "5227101        2         0.543            86.0           86.0         40.0   \n",
       "5227102        2         0.338            70.0           70.0         73.0   \n",
       "5227103        2         0.561            73.0           73.0         64.0   \n",
       "5227104        2         0.772            71.0           71.0         81.0   \n",
       "5227105        2         0.537            79.0           79.0         47.0   \n",
       "\n",
       "         Pressure(in)  Visibility(mi)  Wind_Speed(mph)  Precipitation(in)  \\\n",
       "0               29.63             7.0              3.5               0.03   \n",
       "1               29.62             3.0              4.6               0.02   \n",
       "2               29.62             3.0              4.6               0.02   \n",
       "3               29.62             3.0              4.6               0.02   \n",
       "4               29.62             2.0              4.6               0.01   \n",
       "...               ...             ...              ...                ...   \n",
       "5227101         28.92            10.0             13.0               0.00   \n",
       "5227102         29.39            10.0              6.0               0.00   \n",
       "5227103         29.74            10.0             10.0               0.00   \n",
       "5227104         29.62            10.0              8.0               0.00   \n",
       "5227105         28.63             7.0              7.0               0.00   \n",
       "\n",
       "        Sunrise_Sunset  Day_Night  duration_minutes month  year day_of_week  \\\n",
       "0                  Day          1         30.000000     2  2016           1   \n",
       "1                  Day          1         30.000000     2  2016           1   \n",
       "2                  Day          1         30.000000     2  2016           1   \n",
       "3                  Day          1         30.000000     2  2016           1   \n",
       "4                  Day          1         30.000000     2  2016           1   \n",
       "...                ...        ...               ...   ...   ...         ...   \n",
       "5227101            Day          1         28.600000     8  2019           5   \n",
       "5227102            Day          1         26.883333     8  2019           5   \n",
       "5227103            Day          1         28.466667     8  2019           5   \n",
       "5227104            Day          1         29.350000     8  2019           5   \n",
       "5227105            Day          1         29.416667     8  2019           5   \n",
       "\n",
       "         zipcode_population  \n",
       "0                   64746.0  \n",
       "1                   64746.0  \n",
       "2                   58916.0  \n",
       "3                   36724.0  \n",
       "4                   58079.0  \n",
       "...                     ...  \n",
       "5227101             22136.0  \n",
       "5227102             24201.0  \n",
       "5227103             14873.0  \n",
       "5227104             32005.0  \n",
       "5227105             60025.0  \n",
       "\n",
       "[5227106 rows x 16 columns]"
      ]
     },
     "execution_count": 4,
     "metadata": {},
     "output_type": "execute_result"
    }
   ],
   "source": [
    "df = pd.read_csv('./cleaned_data.csv')\n",
    "\n",
    "df.drop(['Start_Time', 'End_Time', 'Zipcode'], axis=1, inplace=True)\n",
    "\n",
    "df['Severity'] = df['Severity'].astype('category')\n",
    "df['month'] = df['month'].astype('category')\n",
    "df['year'] = df['year'].astype('category')\n",
    "df['day_of_week'] = df['day_of_week'].astype('category')\n",
    "df['Sunrise_Sunset'] = df['Sunrise_Sunset'].astype('category')\n",
    "\n",
    "df"
   ]
  },
  {
   "cell_type": "code",
   "execution_count": 5,
   "metadata": {},
   "outputs": [],
   "source": [
    "df = pd.get_dummies(df, columns=['Severity', 'month', 'day_of_week', 'Sunrise_Sunset'], drop_first=True)"
   ]
  },
  {
   "cell_type": "code",
   "execution_count": 6,
   "metadata": {},
   "outputs": [
    {
     "data": {
      "text/plain": [
       "5227106"
      ]
     },
     "execution_count": 6,
     "metadata": {},
     "output_type": "execute_result"
    }
   ],
   "source": [
    "len(df)"
   ]
  },
  {
   "cell_type": "code",
   "execution_count": 7,
   "metadata": {},
   "outputs": [],
   "source": [
    "df.dropna(inplace=True)"
   ]
  },
  {
   "cell_type": "code",
   "execution_count": 8,
   "metadata": {},
   "outputs": [
    {
     "data": {
      "text/plain": [
       "5225448"
      ]
     },
     "execution_count": 8,
     "metadata": {},
     "output_type": "execute_result"
    }
   ],
   "source": [
    "len(df)"
   ]
  },
  {
   "cell_type": "markdown",
   "metadata": {},
   "source": [
    "# Training"
   ]
  },
  {
   "cell_type": "markdown",
   "metadata": {},
   "source": [
    "## Data Preprocessing"
   ]
  },
  {
   "cell_type": "code",
   "execution_count": 9,
   "metadata": {},
   "outputs": [],
   "source": [
    "def split_data(df):\n",
    "\n",
    "    X = df.drop(columns=['duration_minutes']).astype('float32')\n",
    "    y = df['duration_minutes'].astype('float32')\n",
    "\n",
    "    # Convert to cuDF\n",
    "    X = cudf.DataFrame.from_pandas(X)\n",
    "    y = cudf.Series.from_pandas(y)\n",
    "\n",
    "    X_train, X_test, y_train, y_test = train_test_split(X, y, test_size=0.2, random_state=42)\n",
    "\n",
    "    # Standardize the data\n",
    "    scaler = StandardScaler()\n",
    "\n",
    "    X_train = scaler.fit_transform(X_train)\n",
    "    X_test = scaler.transform(X_test)\n",
    "\n",
    "    return X_train, X_test, y_train, y_test"
   ]
  },
  {
   "cell_type": "code",
   "execution_count": 83,
   "metadata": {},
   "outputs": [],
   "source": [
    "# Split data\n",
    "X_train, X_test, y_train, y_test = split_data(df)"
   ]
  },
  {
   "cell_type": "markdown",
   "metadata": {},
   "source": [
    "## (skip) Estimate Training Time by training subsampled dataset"
   ]
  },
  {
   "cell_type": "code",
   "execution_count": 72,
   "metadata": {},
   "outputs": [],
   "source": [
    "# X_sample = X.sample(frac=0.001, random_state=42)\n",
    "# y_sample = y.loc[X_sample.index]  # Select corresponding labels for the sampled indices\n",
    "\n",
    "# X_train, X_test, y_train, y_test = train_test_split(X_sample, y_sample, test_size=0.2, random_state=42)\n",
    "\n",
    "# scaler = StandardScaler()\n",
    "\n",
    "# # Fit on X_train and transform X_train and X_test\n",
    "# X_train = scaler.fit_transform(X_train)\n",
    "# X_test  = scaler.transform(X_test)"
   ]
  },
  {
   "cell_type": "markdown",
   "metadata": {},
   "source": [
    "## Linear SVR - Raw"
   ]
  },
  {
   "cell_type": "code",
   "execution_count": 16,
   "metadata": {},
   "outputs": [],
   "source": [
    "def train_model(X_train, y_train):\n",
    "\n",
    "    print(\"X_train.shape:\", X_train.shape)\n",
    "\n",
    "    model = LinearSVR(epsilon=0.1, C=1.0, fit_intercept=True, tol=0.0001, max_iter=1000, verbose=4) \n",
    "\n",
    "    with using_device_type('gpu'):\n",
    "        model.fit(X_train, y_train)\n",
    "\n",
    "    y_pred = model.predict(X_test)\n",
    "\n",
    "    # Calculate mae, mse\n",
    "\n",
    "    mae = mean_absolute_error(y_test, y_pred)\n",
    "    mse = mean_squared_error(y_test, y_pred)\n",
    "\n",
    "    print(f'Mean Absolute Error: {mae}')\n",
    "    print(f'Mean Squared Error: {mse}')\n",
    "\n",
    "    return model"
   ]
  },
  {
   "cell_type": "code",
   "execution_count": 89,
   "metadata": {},
   "outputs": [
    {
     "name": "stdout",
     "output_type": "stream",
     "text": [
      "Mean Absolute Error: 513.8905029296875\n",
      "Mean Squared Error: 239963072.0\n"
     ]
    }
   ],
   "source": [
    "train_model(X_train, y_train)"
   ]
  },
  {
   "cell_type": "markdown",
   "metadata": {},
   "source": [
    "## Linear SVR - Remove Duration Outliers"
   ]
  },
  {
   "cell_type": "markdown",
   "metadata": {},
   "source": [
    "### Remove top 10\\% of duration"
   ]
  },
  {
   "cell_type": "code",
   "execution_count": 10,
   "metadata": {},
   "outputs": [],
   "source": [
    "threshold = df['duration_minutes'].quantile(0.90)\n",
    "\n",
    "# Filter out rows where 'duration_minutes' is above the 90th percentile\n",
    "df_filtered = df[df['duration_minutes'] <= threshold]"
   ]
  },
  {
   "cell_type": "code",
   "execution_count": 11,
   "metadata": {},
   "outputs": [],
   "source": [
    "X_train, X_test, y_train, y_test = split_data(df_filtered)"
   ]
  },
  {
   "cell_type": "code",
   "execution_count": 17,
   "metadata": {},
   "outputs": [
    {
     "name": "stdout",
     "output_type": "stream",
     "text": [
      "X_train.shape: (3762341, 32)\n",
      "[W] [15:21:21.137053] L-BFGS line search failed (code 4); stopping at the last valid step\n",
      "Mean Absolute Error: 52.656349182128906\n",
      "Mean Squared Error: 3782.899658203125\n"
     ]
    },
    {
     "data": {
      "text/plain": [
       "['linear_svr.joblib']"
      ]
     },
     "execution_count": 17,
     "metadata": {},
     "output_type": "execute_result"
    }
   ],
   "source": [
    "joblib.dump(train_model(X_train, y_train), 'linear_svr.joblib')"
   ]
  }
 ],
 "metadata": {
  "kernelspec": {
   "display_name": "data-mining-rMf46rSD-py3.11",
   "language": "python",
   "name": "python3"
  },
  "language_info": {
   "codemirror_mode": {
    "name": "ipython",
    "version": 3
   },
   "file_extension": ".py",
   "mimetype": "text/x-python",
   "name": "python",
   "nbconvert_exporter": "python",
   "pygments_lexer": "ipython3",
   "version": "3.11.2"
  }
 },
 "nbformat": 4,
 "nbformat_minor": 2
}
