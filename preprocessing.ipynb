{
 "cells": [
  {
   "cell_type": "code",
   "execution_count": 53,
   "metadata": {},
   "outputs": [],
   "source": [
    "import pyspark as ps\n",
    "import pandas as pd\n",
    "from pyspark.sql import SparkSession\n",
    "from matplotlib import pyplot as plt\n",
    "from pyspark.sql.functions import substring, count, concat, col, lit, round, when, unix_timestamp, date_format, month, year, udf\n",
    "from pyspark.sql import types\n",
    "import json\n",
    "import time\n",
    "import requests"
   ]
  },
  {
   "cell_type": "markdown",
   "metadata": {},
   "source": [
    "#  Getting Started"
   ]
  },
  {
   "cell_type": "markdown",
   "metadata": {},
   "source": [
    "## Download Data"
   ]
  },
  {
   "cell_type": "markdown",
   "metadata": {},
   "source": [
    "Using cURL instead of Kaggle cause kagglehub only downloads to outside your project directory and Kaggle needs authentification...\n",
    " \n",
    "uhhhe, gross!"
   ]
  },
  {
   "cell_type": "code",
   "execution_count": 65,
   "metadata": {},
   "outputs": [
    {
     "name": "stdout",
     "output_type": "stream",
     "text": [
      "  % Total    % Received % Xferd  Average Speed   Time    Time     Time  Current\n",
      "                                 Dload  Upload   Total   Spent    Left  Speed\n",
      "  0     0    0     0    0     0      0      0 --:--:-- --:--:-- --:--:--     0\n",
      " 67  653M   67  444M    0     0  39.7M      0  0:00:16  0:00:11  0:00:05 42.4M^C\n"
     ]
    }
   ],
   "source": [
    "!curl -L -o archive.zip https://www.kaggle.com/api/v1/datasets/download/sobhanmoosavi/us-accidents"
   ]
  },
  {
   "cell_type": "code",
   "execution_count": 26,
   "metadata": {},
   "outputs": [
    {
     "name": "stdout",
     "output_type": "stream",
     "text": [
      "Archive:  archive.zip\n",
      "  inflating: US_Accidents_March23.csv  \n"
     ]
    }
   ],
   "source": [
    "!unzip archive.zip"
   ]
  },
  {
   "cell_type": "markdown",
   "metadata": {},
   "source": [
    "## Create Spark Session"
   ]
  },
  {
   "cell_type": "markdown",
   "metadata": {},
   "source": [
    "I'll use pyspark first cause it's optimized for large data. By the end of the section we will output a pandas dataframe which is more familiar to everybody."
   ]
  },
  {
   "cell_type": "code",
   "execution_count": 114,
   "metadata": {},
   "outputs": [
    {
     "name": "stderr",
     "output_type": "stream",
     "text": [
      "                                                                                \r"
     ]
    }
   ],
   "source": [
    "# Initialize Spark Session\n",
    "spark = SparkSession.builder.appName(\"US_Accidents_Analysis\").getOrCreate()\n",
    "\n",
    "# Load the CSV file into a DataFrame\n",
    "df = spark.read.option(\"header\", \"true\").option(\"inferSchema\", \"true\").csv(\"US_Accidents_March23.csv\")"
   ]
  },
  {
   "cell_type": "code",
   "execution_count": 115,
   "metadata": {},
   "outputs": [
    {
     "name": "stdout",
     "output_type": "stream",
     "text": [
      "+---+-------+--------+-------------------+-------------------+-----------------+------------------+-------+-------+------------+--------------------+--------------------+------------+----------+-----+----------+-------+----------+------------+-------------------+--------------+-------------+-----------+------------+--------------+--------------+---------------+-----------------+-----------------+-------+-----+--------+--------+--------+-------+-------+----------+-------+-----+---------------+--------------+------------+--------------+--------------+-----------------+---------------------+\n",
      "| ID| Source|Severity|         Start_Time|           End_Time|        Start_Lat|         Start_Lng|End_Lat|End_Lng|Distance(mi)|         Description|              Street|        City|    County|State|   Zipcode|Country|  Timezone|Airport_Code|  Weather_Timestamp|Temperature(F)|Wind_Chill(F)|Humidity(%)|Pressure(in)|Visibility(mi)|Wind_Direction|Wind_Speed(mph)|Precipitation(in)|Weather_Condition|Amenity| Bump|Crossing|Give_Way|Junction|No_Exit|Railway|Roundabout|Station| Stop|Traffic_Calming|Traffic_Signal|Turning_Loop|Sunrise_Sunset|Civil_Twilight|Nautical_Twilight|Astronomical_Twilight|\n",
      "+---+-------+--------+-------------------+-------------------+-----------------+------------------+-------+-------+------------+--------------------+--------------------+------------+----------+-----+----------+-------+----------+------------+-------------------+--------------+-------------+-----------+------------+--------------+--------------+---------------+-----------------+-----------------+-------+-----+--------+--------+--------+-------+-------+----------+-------+-----+---------------+--------------+------------+--------------+--------------+-----------------+---------------------+\n",
      "|A-1|Source2|       3|2016-02-08 05:46:00|2016-02-08 11:00:00|        39.865147|        -84.058723|   NULL|   NULL|        0.01|Right lane blocke...|              I-70 E|      Dayton|Montgomery|   OH|     45424|     US|US/Eastern|        KFFO|2016-02-08 05:58:00|          36.9|         NULL|       91.0|       29.68|          10.0|          Calm|           NULL|             0.02|       Light Rain|  false|false|   false|   false|   false|  false|  false|     false|  false|false|          false|         false|       false|         Night|         Night|            Night|                Night|\n",
      "|A-2|Source2|       2|2016-02-08 06:07:59|2016-02-08 06:37:59|39.92805900000001|        -82.831184|   NULL|   NULL|        0.01|Accident on Brice...|            Brice Rd|Reynoldsburg|  Franklin|   OH|43068-3402|     US|US/Eastern|        KCMH|2016-02-08 05:51:00|          37.9|         NULL|      100.0|       29.65|          10.0|          Calm|           NULL|              0.0|       Light Rain|  false|false|   false|   false|   false|  false|  false|     false|  false|false|          false|         false|       false|         Night|         Night|            Night|                  Day|\n",
      "|A-3|Source2|       2|2016-02-08 06:49:27|2016-02-08 07:19:27|        39.063148|        -84.032608|   NULL|   NULL|        0.01|Accident on OH-32...|      State Route 32|Williamsburg|  Clermont|   OH|     45176|     US|US/Eastern|        KI69|2016-02-08 06:56:00|          36.0|         33.3|      100.0|       29.67|          10.0|            SW|            3.5|             NULL|         Overcast|  false|false|   false|   false|   false|  false|  false|     false|  false|false|          false|          true|       false|         Night|         Night|              Day|                  Day|\n",
      "|A-4|Source2|       3|2016-02-08 07:23:34|2016-02-08 07:53:34|        39.747753|-84.20558199999998|   NULL|   NULL|        0.01|Accident on I-75 ...|              I-75 S|      Dayton|Montgomery|   OH|     45417|     US|US/Eastern|        KDAY|2016-02-08 07:38:00|          35.1|         31.0|       96.0|       29.64|           9.0|            SW|            4.6|             NULL|    Mostly Cloudy|  false|false|   false|   false|   false|  false|  false|     false|  false|false|          false|         false|       false|         Night|           Day|              Day|                  Day|\n",
      "|A-5|Source2|       2|2016-02-08 07:39:07|2016-02-08 08:09:07|        39.627781|        -84.188354|   NULL|   NULL|        0.01|Accident on McEwe...|Miamisburg Center...|      Dayton|Montgomery|   OH|     45459|     US|US/Eastern|        KMGY|2016-02-08 07:53:00|          36.0|         33.3|       89.0|       29.65|           6.0|            SW|            3.5|             NULL|    Mostly Cloudy|  false|false|   false|   false|   false|  false|  false|     false|  false|false|          false|          true|       false|           Day|           Day|              Day|                  Day|\n",
      "+---+-------+--------+-------------------+-------------------+-----------------+------------------+-------+-------+------------+--------------------+--------------------+------------+----------+-----+----------+-------+----------+------------+-------------------+--------------+-------------+-----------+------------+--------------+--------------+---------------+-----------------+-----------------+-------+-----+--------+--------+--------+-------+-------+----------+-------+-----+---------------+--------------+------------+--------------+--------------+-----------------+---------------------+\n",
      "only showing top 5 rows\n",
      "\n"
     ]
    }
   ],
   "source": [
    "df.show(5)"
   ]
  },
  {
   "cell_type": "markdown",
   "metadata": {},
   "source": [
    "# Data Cleaning"
   ]
  },
  {
   "cell_type": "markdown",
   "metadata": {},
   "source": [
    "## Drop Unusable Variables"
   ]
  },
  {
   "cell_type": "markdown",
   "metadata": {},
   "source": [
    "Some of the variables simply don't make sense and will not contribute to our model.\n",
    "\n",
    "Some are debatable."
   ]
  },
  {
   "cell_type": "markdown",
   "metadata": {},
   "source": [
    "### Assess weather condition stay or leave"
   ]
  },
  {
   "cell_type": "code",
   "execution_count": 116,
   "metadata": {},
   "outputs": [
    {
     "name": "stderr",
     "output_type": "stream",
     "text": [
      "                                                                                \r"
     ]
    },
    {
     "data": {
      "text/plain": [
       "[Row(Weather_Condition='Ice Pellets'),\n",
       " Row(Weather_Condition='Shallow Fog'),\n",
       " Row(Weather_Condition='Thunderstorm'),\n",
       " Row(Weather_Condition='Volcanic Ash'),\n",
       " Row(Weather_Condition='N/A Precipitation'),\n",
       " Row(Weather_Condition='Showers in the Vicinity'),\n",
       " Row(Weather_Condition='Cloudy'),\n",
       " Row(Weather_Condition='Light Freezing Rain'),\n",
       " Row(Weather_Condition='Blowing Snow'),\n",
       " Row(Weather_Condition='Heavy Rain / Windy'),\n",
       " Row(Weather_Condition='Low Drifting Snow'),\n",
       " Row(Weather_Condition='Heavy Thunderstorms and Snow'),\n",
       " Row(Weather_Condition='Widespread Dust'),\n",
       " Row(Weather_Condition='Snow Grains'),\n",
       " Row(Weather_Condition='Light Rain with Thunder'),\n",
       " Row(Weather_Condition='Squalls'),\n",
       " Row(Weather_Condition='Scattered Clouds'),\n",
       " Row(Weather_Condition='Heavy T-Storm'),\n",
       " Row(Weather_Condition='Patches of Fog'),\n",
       " Row(Weather_Condition='Rain Showers'),\n",
       " Row(Weather_Condition='Thunderstorms and Rain'),\n",
       " Row(Weather_Condition='Drizzle'),\n",
       " Row(Weather_Condition='Cloudy / Windy'),\n",
       " Row(Weather_Condition='T-Storm'),\n",
       " Row(Weather_Condition='Snow Showers'),\n",
       " Row(Weather_Condition='Fog'),\n",
       " Row(Weather_Condition='Partly Cloudy'),\n",
       " Row(Weather_Condition='Clear'),\n",
       " Row(Weather_Condition='Light Freezing Fog'),\n",
       " Row(Weather_Condition='Fair'),\n",
       " Row(Weather_Condition='Heavy Drizzle'),\n",
       " Row(Weather_Condition='Heavy Thunderstorms and Rain'),\n",
       " Row(Weather_Condition='Mostly Cloudy'),\n",
       " Row(Weather_Condition='Funnel Cloud'),\n",
       " Row(Weather_Condition='Smoke'),\n",
       " Row(Weather_Condition='Light Ice Pellets'),\n",
       " Row(Weather_Condition='Light Freezing Drizzle'),\n",
       " Row(Weather_Condition='Light Haze'),\n",
       " Row(Weather_Condition='Heavy T-Storm / Windy'),\n",
       " Row(Weather_Condition='Heavy Rain'),\n",
       " Row(Weather_Condition='Sand'),\n",
       " Row(Weather_Condition='Light Rain Showers'),\n",
       " Row(Weather_Condition='Rain / Windy'),\n",
       " Row(Weather_Condition='Thunder'),\n",
       " Row(Weather_Condition='Light Fog'),\n",
       " Row(Weather_Condition='Light Rain'),\n",
       " Row(Weather_Condition='Blowing Sand'),\n",
       " Row(Weather_Condition='Mist'),\n",
       " Row(Weather_Condition='Light Thunderstorms and Rain'),\n",
       " Row(Weather_Condition='Hail'),\n",
       " Row(Weather_Condition='Light Rain / Windy'),\n",
       " Row(Weather_Condition='Partly Cloudy / Windy'),\n",
       " Row(Weather_Condition='Blowing Dust / Windy'),\n",
       " Row(Weather_Condition='Rain'),\n",
       " Row(Weather_Condition='Snow'),\n",
       " Row(Weather_Condition='Light Drizzle'),\n",
       " Row(Weather_Condition='Thunder in the Vicinity'),\n",
       " Row(Weather_Condition='Haze'),\n",
       " Row(Weather_Condition='Overcast'),\n",
       " Row(Weather_Condition='Light Snow'),\n",
       " Row(Weather_Condition='Heavy Snow'),\n",
       " Row(Weather_Condition='Light Thunderstorms and Snow'),\n",
       " Row(Weather_Condition='Fair / Windy'),\n",
       " Row(Weather_Condition='Mostly Cloudy / Windy'),\n",
       " Row(Weather_Condition='Light Rain Shower'),\n",
       " Row(Weather_Condition='Light Snow with Thunder'),\n",
       " Row(Weather_Condition='Light Sleet'),\n",
       " Row(Weather_Condition='Light Snow / Windy'),\n",
       " Row(Weather_Condition='Heavy Ice Pellets'),\n",
       " Row(Weather_Condition='Wintry Mix / Windy'),\n",
       " Row(Weather_Condition='T-Storm / Windy'),\n",
       " Row(Weather_Condition='Wintry Mix'),\n",
       " Row(Weather_Condition='Sleet'),\n",
       " Row(Weather_Condition='Thunder / Windy'),\n",
       " Row(Weather_Condition='Widespread Dust / Windy'),\n",
       " Row(Weather_Condition='Rain Shower'),\n",
       " Row(Weather_Condition='Sleet / Windy'),\n",
       " Row(Weather_Condition='Tornado'),\n",
       " Row(Weather_Condition='Light Drizzle / Windy'),\n",
       " Row(Weather_Condition='Freezing Drizzle'),\n",
       " Row(Weather_Condition='Heavy Snow / Windy'),\n",
       " Row(Weather_Condition='Smoke / Windy'),\n",
       " Row(Weather_Condition='Haze / Windy'),\n",
       " Row(Weather_Condition='Small Hail'),\n",
       " Row(Weather_Condition='Drizzle and Fog'),\n",
       " Row(Weather_Condition='Blowing Dust'),\n",
       " Row(Weather_Condition='Thunder / Wintry Mix'),\n",
       " Row(Weather_Condition='Freezing Rain'),\n",
       " Row(Weather_Condition='Light Snow and Sleet'),\n",
       " Row(Weather_Condition='Snow and Sleet'),\n",
       " Row(Weather_Condition='Fog / Windy'),\n",
       " Row(Weather_Condition='Snow / Windy'),\n",
       " Row(Weather_Condition='Snow and Thunder'),\n",
       " Row(Weather_Condition='Heavy Freezing Rain'),\n",
       " Row(Weather_Condition='Heavy Rain Showers'),\n",
       " Row(Weather_Condition='Light Snow Shower'),\n",
       " Row(Weather_Condition='Light Freezing Rain / Windy'),\n",
       " Row(Weather_Condition='Heavy Freezing Rain / Windy'),\n",
       " Row(Weather_Condition='Light Snow and Sleet / Windy'),\n",
       " Row(Weather_Condition='Snow and Sleet / Windy'),\n",
       " Row(Weather_Condition='Blowing Snow / Windy'),\n",
       " Row(Weather_Condition='Light Rain Shower / Windy'),\n",
       " Row(Weather_Condition='Duststorm'),\n",
       " Row(Weather_Condition='Mist / Windy'),\n",
       " Row(Weather_Condition='Light Sleet / Windy'),\n",
       " Row(Weather_Condition='Sand / Dust Whirls Nearby'),\n",
       " Row(Weather_Condition='Squalls / Windy'),\n",
       " Row(Weather_Condition='Snow and Thunder / Windy'),\n",
       " Row(Weather_Condition='Drizzle / Windy'),\n",
       " Row(Weather_Condition='Sand / Dust Whirlwinds'),\n",
       " Row(Weather_Condition='Freezing Rain / Windy'),\n",
       " Row(Weather_Condition='Thunder and Hail'),\n",
       " Row(Weather_Condition='Partial Fog'),\n",
       " Row(Weather_Condition='Heavy Sleet'),\n",
       " Row(Weather_Condition='Light Snow Shower / Windy'),\n",
       " Row(Weather_Condition='Thunder / Wintry Mix / Windy'),\n",
       " Row(Weather_Condition='Rain and Sleet'),\n",
       " Row(Weather_Condition='Patches of Fog / Windy'),\n",
       " Row(Weather_Condition='Light Snow Grains'),\n",
       " Row(Weather_Condition='Sand / Dust Whirlwinds / Windy'),\n",
       " Row(Weather_Condition='Partial Fog / Windy'),\n",
       " Row(Weather_Condition='Heavy Smoke'),\n",
       " Row(Weather_Condition='Light Hail'),\n",
       " Row(Weather_Condition='Heavy Blowing Snow'),\n",
       " Row(Weather_Condition='Light Snow Showers'),\n",
       " Row(Weather_Condition='Heavy Snow with Thunder'),\n",
       " Row(Weather_Condition='Heavy Thunderstorms with Small Hail'),\n",
       " Row(Weather_Condition='Light Thunderstorm'),\n",
       " Row(Weather_Condition='Heavy Freezing Drizzle'),\n",
       " Row(Weather_Condition='Light Blowing Snow'),\n",
       " Row(Weather_Condition='Thunderstorms and Snow'),\n",
       " Row(Weather_Condition='Dust Whirls'),\n",
       " Row(Weather_Condition='Rain Shower / Windy'),\n",
       " Row(Weather_Condition='Heavy Sleet and Thunder'),\n",
       " Row(Weather_Condition='Drifting Snow / Windy'),\n",
       " Row(Weather_Condition='Sleet and Thunder'),\n",
       " Row(Weather_Condition='Shallow Fog / Windy'),\n",
       " Row(Weather_Condition='Thunder and Hail / Windy'),\n",
       " Row(Weather_Condition='Heavy Sleet / Windy'),\n",
       " Row(Weather_Condition='Sand / Windy'),\n",
       " Row(Weather_Condition='Heavy Rain Shower / Windy'),\n",
       " Row(Weather_Condition='Blowing Snow Nearby'),\n",
       " Row(Weather_Condition='Drifting Snow'),\n",
       " Row(Weather_Condition='Heavy Rain Shower'),\n",
       " Row(Weather_Condition=None)]"
      ]
     },
     "execution_count": 116,
     "metadata": {},
     "output_type": "execute_result"
    }
   ],
   "source": [
    "df.select(\"Weather_Condition\").distinct().collect()"
   ]
  },
  {
   "cell_type": "markdown",
   "metadata": {},
   "source": [
    "Weather condition has too many variables.. we drop it for now cause other numeric parameters should be sufficient."
   ]
  },
  {
   "cell_type": "markdown",
   "metadata": {},
   "source": [
    "### Assess day/night condition stay or leave"
   ]
  },
  {
   "cell_type": "code",
   "execution_count": 117,
   "metadata": {},
   "outputs": [
    {
     "name": "stderr",
     "output_type": "stream",
     "text": [
      "[Stage 80:============================>                          (12 + 11) / 23]\r"
     ]
    },
    {
     "name": "stdout",
     "output_type": "stream",
     "text": [
      "+--------------+\n",
      "|Sunrise_Sunset|\n",
      "+--------------+\n",
      "|         Night|\n",
      "|           Day|\n",
      "|          NULL|\n",
      "+--------------+\n",
      "\n"
     ]
    },
    {
     "name": "stderr",
     "output_type": "stream",
     "text": [
      "                                                                                \r"
     ]
    }
   ],
   "source": [
    "df.select(\"Sunrise_Sunset\").distinct().show()"
   ]
  },
  {
   "cell_type": "markdown",
   "metadata": {},
   "source": [
    "It'll stay as a boolean."
   ]
  },
  {
   "cell_type": "code",
   "execution_count": 118,
   "metadata": {},
   "outputs": [],
   "source": [
    "df = df.withColumn(\n",
    "    \"Day_Night\",\n",
    "    when(col(\"Sunrise_Sunset\") == \"Day\", 1)\n",
    "    .when(col(\"Sunrise_Sunset\") == \"Night\", 0)\n",
    "    .otherwise(None)  # You can replace None with a value, such as -1, to handle NULL cases\n",
    ")"
   ]
  },
  {
   "cell_type": "markdown",
   "metadata": {},
   "source": [
    "### Assess Wind Direction stay or leave"
   ]
  },
  {
   "cell_type": "code",
   "execution_count": 119,
   "metadata": {},
   "outputs": [
    {
     "name": "stderr",
     "output_type": "stream",
     "text": [
      "[Stage 83:============================>                          (12 + 11) / 23]\r"
     ]
    },
    {
     "name": "stdout",
     "output_type": "stream",
     "text": [
      "+--------------+\n",
      "|Wind_Direction|\n",
      "+--------------+\n",
      "|           SSE|\n",
      "|            SW|\n",
      "|            NW|\n",
      "|          Calm|\n",
      "|             E|\n",
      "|           WSW|\n",
      "|           ENE|\n",
      "|            NE|\n",
      "|         South|\n",
      "|           NNW|\n",
      "|             N|\n",
      "|           SSW|\n",
      "|             W|\n",
      "|             S|\n",
      "|            SE|\n",
      "|          East|\n",
      "|           WNW|\n",
      "|           NNE|\n",
      "|          West|\n",
      "|           VAR|\n",
      "+--------------+\n",
      "only showing top 20 rows\n",
      "\n"
     ]
    },
    {
     "name": "stderr",
     "output_type": "stream",
     "text": [
      "                                                                                \r"
     ]
    }
   ],
   "source": [
    "df.select(\"Wind_Direction\").distinct().show()"
   ]
  },
  {
   "cell_type": "markdown",
   "metadata": {},
   "source": [
    "I'll drop it."
   ]
  },
  {
   "cell_type": "markdown",
   "metadata": {},
   "source": [
    "### Start Dropping"
   ]
  },
  {
   "cell_type": "markdown",
   "metadata": {},
   "source": [
    "Some of the variables simply don't make sense and will not contribute to our model."
   ]
  },
  {
   "cell_type": "code",
   "execution_count": 120,
   "metadata": {},
   "outputs": [
    {
     "name": "stdout",
     "output_type": "stream",
     "text": [
      "+--------+-------------------+-------------------+------------+----------+--------------+-------------+-----------+------------+--------------+---------------+-----------------+--------------+---------+\n",
      "|Severity|Start_Time         |End_Time           |Distance(mi)|Zipcode   |Temperature(F)|Wind_Chill(F)|Humidity(%)|Pressure(in)|Visibility(mi)|Wind_Speed(mph)|Precipitation(in)|Sunrise_Sunset|Day_Night|\n",
      "+--------+-------------------+-------------------+------------+----------+--------------+-------------+-----------+------------+--------------+---------------+-----------------+--------------+---------+\n",
      "|3       |2016-02-08 05:46:00|2016-02-08 11:00:00|0.01        |45424     |36.9          |NULL         |91.0       |29.68       |10.0          |NULL           |0.02             |Night         |0        |\n",
      "|2       |2016-02-08 06:07:59|2016-02-08 06:37:59|0.01        |43068-3402|37.9          |NULL         |100.0      |29.65       |10.0          |NULL           |0.0              |Night         |0        |\n",
      "|2       |2016-02-08 06:49:27|2016-02-08 07:19:27|0.01        |45176     |36.0          |33.3         |100.0      |29.67       |10.0          |3.5            |NULL             |Night         |0        |\n",
      "|3       |2016-02-08 07:23:34|2016-02-08 07:53:34|0.01        |45417     |35.1          |31.0         |96.0       |29.64       |9.0           |4.6            |NULL             |Night         |0        |\n",
      "|2       |2016-02-08 07:39:07|2016-02-08 08:09:07|0.01        |45459     |36.0          |33.3         |89.0       |29.65       |6.0           |3.5            |NULL             |Day           |1        |\n",
      "+--------+-------------------+-------------------+------------+----------+--------------+-------------+-----------+------------+--------------+---------------+-----------------+--------------+---------+\n",
      "only showing top 5 rows\n",
      "\n"
     ]
    }
   ],
   "source": [
    "# Drop the unnecessary columns including ID and Source\n",
    "df_cleaned = df.drop(\"Start_Lat\", \"Start_Lng\", \"End_Lat\", \"End_Lng\", \"Description\", \"ID\", \"Source\", \n",
    "                     \"Distance\", \"Street\", \"City\", \"County\", \"State\", \"Country\", \"Timezone\", \"Airport_code\", \n",
    "                     \"Weather_Condition\", \"Amenity\", \"Bump\", \"Crossing\", \"Give_Way\", \"Junction\", \"No_Exit\", \"Railway\", \n",
    "                     \"Roundabout\", \"Weather_Timestamp\", \"Station\", \"Stop\", \"Traffic_Calming\", \"Traffic_Signal\", \"Turning_Loop\", \n",
    "                     \"Astronomical_Twilight\", \"Nautical_Twilight\", \"Civil_Twilight\", \"Wind_Direction\")\n",
    "\n",
    "# Show the first 5 rows of the cleaned DataFrame to verify the columns were removed\n",
    "df_cleaned.show(5, truncate=False)"
   ]
  },
  {
   "cell_type": "code",
   "execution_count": 121,
   "metadata": {},
   "outputs": [],
   "source": [
    "df = df_cleaned"
   ]
  },
  {
   "cell_type": "markdown",
   "metadata": {},
   "source": [
    "## Drop Null"
   ]
  },
  {
   "cell_type": "code",
   "execution_count": 122,
   "metadata": {},
   "outputs": [
    {
     "name": "stderr",
     "output_type": "stream",
     "text": [
      "                                                                                \r"
     ]
    },
    {
     "data": {
      "text/plain": [
       "7728394"
      ]
     },
     "execution_count": 122,
     "metadata": {},
     "output_type": "execute_result"
    }
   ],
   "source": [
    "df.count()"
   ]
  },
  {
   "cell_type": "code",
   "execution_count": 123,
   "metadata": {},
   "outputs": [],
   "source": [
    "df = df.dropna()"
   ]
  },
  {
   "cell_type": "code",
   "execution_count": 124,
   "metadata": {},
   "outputs": [
    {
     "name": "stderr",
     "output_type": "stream",
     "text": [
      "                                                                                \r"
     ]
    },
    {
     "data": {
      "text/plain": [
       "5227106"
      ]
     },
     "execution_count": 124,
     "metadata": {},
     "output_type": "execute_result"
    }
   ],
   "source": [
    "df.count()"
   ]
  },
  {
   "cell_type": "markdown",
   "metadata": {},
   "source": [
    "## Create Duration feature"
   ]
  },
  {
   "cell_type": "code",
   "execution_count": 125,
   "metadata": {},
   "outputs": [],
   "source": [
    "df = df.withColumn(\n",
    "    \"duration_minutes\",\n",
    "    (unix_timestamp(col(\"end_time\")) - unix_timestamp(col(\"start_time\"))) / 60\n",
    ")"
   ]
  },
  {
   "cell_type": "code",
   "execution_count": 126,
   "metadata": {},
   "outputs": [
    {
     "name": "stdout",
     "output_type": "stream",
     "text": [
      "+--------+-------------------+-------------------+------------+----------+--------------+-------------+-----------+------------+--------------+---------------+-----------------+--------------+---------+----------------+\n",
      "|Severity|         Start_Time|           End_Time|Distance(mi)|   Zipcode|Temperature(F)|Wind_Chill(F)|Humidity(%)|Pressure(in)|Visibility(mi)|Wind_Speed(mph)|Precipitation(in)|Sunrise_Sunset|Day_Night|duration_minutes|\n",
      "+--------+-------------------+-------------------+------------+----------+--------------+-------------+-----------+------------+--------------+---------------+-----------------+--------------+---------+----------------+\n",
      "|       3|2016-02-08 07:44:26|2016-02-08 08:14:26|        0.01|     43081|          37.9|         35.5|       97.0|       29.63|           7.0|            3.5|             0.03|           Day|        1|            30.0|\n",
      "|       3|2016-02-08 08:10:04|2016-02-08 08:40:04|        0.01|     43081|          37.4|         33.8|      100.0|       29.62|           3.0|            4.6|             0.02|           Day|        1|            30.0|\n",
      "|       3|2016-02-08 08:21:27|2016-02-08 08:51:27|        0.01|     43068|          37.4|         33.8|      100.0|       29.62|           3.0|            4.6|             0.02|           Day|        1|            30.0|\n",
      "|       2|2016-02-08 08:39:43|2016-02-08 09:09:43|        0.01|43213-1006|          37.4|         33.8|      100.0|       29.62|           3.0|            4.6|             0.02|           Day|        1|            30.0|\n",
      "|       2|2016-02-08 10:11:15|2016-02-08 10:41:15|         0.0|43230-1765|          33.8|         29.6|      100.0|       29.62|           2.0|            4.6|             0.01|           Day|        1|            30.0|\n",
      "+--------+-------------------+-------------------+------------+----------+--------------+-------------+-----------+------------+--------------+---------------+-----------------+--------------+---------+----------------+\n",
      "only showing top 5 rows\n",
      "\n"
     ]
    }
   ],
   "source": [
    "df.show(5)"
   ]
  },
  {
   "cell_type": "markdown",
   "metadata": {},
   "source": [
    "## Create Day, Month, Year Categorical Variables"
   ]
  },
  {
   "cell_type": "code",
   "execution_count": 127,
   "metadata": {},
   "outputs": [
    {
     "name": "stdout",
     "output_type": "stream",
     "text": [
      "+--------+-------------------+-------------------+------------+----------+--------------+-------------+-----------+------------+--------------+---------------+-----------------+--------------+---------+----------------+-----+----+-----------+\n",
      "|Severity|         Start_Time|           End_Time|Distance(mi)|   Zipcode|Temperature(F)|Wind_Chill(F)|Humidity(%)|Pressure(in)|Visibility(mi)|Wind_Speed(mph)|Precipitation(in)|Sunrise_Sunset|Day_Night|duration_minutes|month|year|day_of_week|\n",
      "+--------+-------------------+-------------------+------------+----------+--------------+-------------+-----------+------------+--------------+---------------+-----------------+--------------+---------+----------------+-----+----+-----------+\n",
      "|       3|2016-02-08 07:44:26|2016-02-08 08:14:26|        0.01|     43081|          37.9|         35.5|       97.0|       29.63|           7.0|            3.5|             0.03|           Day|        1|            30.0|    2|2016|          1|\n",
      "|       3|2016-02-08 08:10:04|2016-02-08 08:40:04|        0.01|     43081|          37.4|         33.8|      100.0|       29.62|           3.0|            4.6|             0.02|           Day|        1|            30.0|    2|2016|          1|\n",
      "|       3|2016-02-08 08:21:27|2016-02-08 08:51:27|        0.01|     43068|          37.4|         33.8|      100.0|       29.62|           3.0|            4.6|             0.02|           Day|        1|            30.0|    2|2016|          1|\n",
      "|       2|2016-02-08 08:39:43|2016-02-08 09:09:43|        0.01|43213-1006|          37.4|         33.8|      100.0|       29.62|           3.0|            4.6|             0.02|           Day|        1|            30.0|    2|2016|          1|\n",
      "|       2|2016-02-08 10:11:15|2016-02-08 10:41:15|         0.0|43230-1765|          33.8|         29.6|      100.0|       29.62|           2.0|            4.6|             0.01|           Day|        1|            30.0|    2|2016|          1|\n",
      "+--------+-------------------+-------------------+------------+----------+--------------+-------------+-----------+------------+--------------+---------------+-----------------+--------------+---------+----------------+-----+----+-----------+\n",
      "only showing top 5 rows\n",
      "\n"
     ]
    }
   ],
   "source": [
    "# Step 1: Extract \"day_of_week\" as a string, \"month\", and \"year\"\n",
    "df = df.withColumn(\"day_of_week_str\", date_format(col(\"start_time\"), \"E\")) \\\n",
    "       .withColumn(\"month\", month(col(\"start_time\"))) \\\n",
    "       .withColumn(\"year\", year(col(\"start_time\")))\n",
    "\n",
    "# Step 2: Map the day_of_week_str to numeric values (Mon = 1, ..., Sun = 7)\n",
    "df = df.withColumn(\n",
    "    \"day_of_week\",\n",
    "    when(col(\"day_of_week_str\") == \"Mon\", 1)\n",
    "    .when(col(\"day_of_week_str\") == \"Tue\", 2)\n",
    "    .when(col(\"day_of_week_str\") == \"Wed\", 3)\n",
    "    .when(col(\"day_of_week_str\") == \"Thu\", 4)\n",
    "    .when(col(\"day_of_week_str\") == \"Fri\", 5)\n",
    "    .when(col(\"day_of_week_str\") == \"Sat\", 6)\n",
    "    .when(col(\"day_of_week_str\") == \"Sun\", 7)\n",
    "    .otherwise(None)\n",
    ")\n",
    "\n",
    "# Step 3: (Optional) Drop the \"day_of_week_str\" column if you no longer need it\n",
    "df = df.drop(\"day_of_week_str\")\n",
    "df.show(5)"
   ]
  },
  {
   "cell_type": "markdown",
   "metadata": {},
   "source": [
    "## Geolocation Processing - ZIP Code to Population"
   ]
  },
  {
   "cell_type": "markdown",
   "metadata": {},
   "source": [
    "Due to an imbalance of geolocation data, I propose we use population as a continuous to replace ZIP code."
   ]
  },
  {
   "cell_type": "code",
   "execution_count": 128,
   "metadata": {},
   "outputs": [],
   "source": [
    "# First let's truncate zipcode to only 5 digits\n",
    "df = df.withColumn(\"Zipcode\", substring(\"Zipcode\", 1, 5))"
   ]
  },
  {
   "cell_type": "code",
   "execution_count": 129,
   "metadata": {},
   "outputs": [
    {
     "name": "stderr",
     "output_type": "stream",
     "text": [
      "                                                                                \r"
     ]
    }
   ],
   "source": [
    "unique_zipcodes = [row[\"Zipcode\"] for row in df.select(\"Zipcode\").distinct().collect()]"
   ]
  },
  {
   "cell_type": "markdown",
   "metadata": {},
   "source": [
    "### Imbalance of ZIP Code Distribution"
   ]
  },
  {
   "cell_type": "code",
   "execution_count": 130,
   "metadata": {},
   "outputs": [
    {
     "data": {
      "text/plain": [
       "20305"
      ]
     },
     "execution_count": 130,
     "metadata": {},
     "output_type": "execute_result"
    }
   ],
   "source": [
    "len(unique_zipcodes)"
   ]
  },
  {
   "cell_type": "code",
   "execution_count": 131,
   "metadata": {},
   "outputs": [
    {
     "name": "stderr",
     "output_type": "stream",
     "text": [
      "[Stage 98:======================================>                 (16 + 7) / 23]\r"
     ]
    },
    {
     "name": "stdout",
     "output_type": "stream",
     "text": [
      "+-------+-----+\n",
      "|Zipcode|count|\n",
      "+-------+-----+\n",
      "|33186  |10560|\n",
      "|32819  |9841 |\n",
      "|27610  |8768 |\n",
      "|91761  |8610 |\n",
      "|33155  |8341 |\n",
      "|70808  |7764 |\n",
      "|32837  |7753 |\n",
      "|92407  |7592 |\n",
      "|37211  |7480 |\n",
      "|33169  |7395 |\n",
      "+-------+-----+\n",
      "only showing top 10 rows\n",
      "\n"
     ]
    },
    {
     "name": "stderr",
     "output_type": "stream",
     "text": [
      "                                                                                \r"
     ]
    }
   ],
   "source": [
    "# Group by the first five digits of the zip code and count the occurrences\n",
    "df_zipcode_histogram = df.groupBy(\"Zipcode\").agg(count(\"*\").alias(\"count\"))\n",
    "\n",
    "# Display the top 10 zip codes by frequency\n",
    "df_zipcode_histogram.orderBy(\"count\", ascending=False).show(10, truncate=False)"
   ]
  },
  {
   "cell_type": "code",
   "execution_count": 132,
   "metadata": {},
   "outputs": [
    {
     "name": "stderr",
     "output_type": "stream",
     "text": [
      "                                                                                \r"
     ]
    },
    {
     "data": {
      "image/png": "[encoded data removed]",
      "text/plain": [
       "<Figure size 1000x600 with 1 Axes>"
      ]
     },
     "metadata": {},
     "output_type": "display_data"
    }
   ],
   "source": [
    "df_zipcode_histogram_pd = df_zipcode_histogram.toPandas()\n",
    "\n",
    "\n",
    "plt.figure(figsize=(10, 6))\n",
    "plt.hist(df_zipcode_histogram_pd['count'], bins=10, color='skyblue', edgecolor='black')\n",
    "plt.xlabel('Count')\n",
    "plt.ylabel('Frequency')\n",
    "plt.title('Histogram of Zipcodes')\n",
    "plt.grid(True)\n",
    "\n",
    "# Show the plot\n",
    "plt.tight_layout()\n",
    "plt.show()"
   ]
  },
  {
   "cell_type": "markdown",
   "metadata": {},
   "source": [
    "### Calling Census API to Get Population by ZCTA"
   ]
  },
  {
   "cell_type": "markdown",
   "metadata": {},
   "source": [
    "Go to this website\n",
    "https://data.census.gov/table?q=demographics&g=860XX00US30318"
   ]
  },
  {
   "cell_type": "markdown",
   "metadata": {},
   "source": [
    "Define function to request data from API.\n",
    "\n",
    "Get an API key form the website above."
   ]
  },
  {
   "cell_type": "code",
   "execution_count": 133,
   "metadata": {},
   "outputs": [],
   "source": [
    "# Base URL for the Census ACS 2022 Profile API\n",
    "BASE_URL = \"https://api.census.gov/data/2022/acs/acs5/profile\"\n",
    "\n",
    "def get_population_data(output_path):\n",
    "    params = {\n",
    "        \"get\": \"group(DP05)\",\n",
    "        \"for\": f\"zip code tabulation area:*\",\n",
    "        \"key\": \"67c2f8800849799333a9ee74d25c60a4630b3db1\"\n",
    "    }\n",
    "\n",
    "\n",
    "    response = requests.get(BASE_URL, params=params)\n",
    "\n",
    "    # Parse the JSON response\n",
    "    data = response.json()\n",
    "\n",
    "    population_dict = {}\n",
    "    for i in range(1, len(data)):\n",
    "        population_dict[int(data[i][-1])] = int(data[i][0])\n",
    "\n",
    "    with open(output_path, \"w\") as file:\n",
    "        json.dump(population_dict, file, indent=4)\n",
    "\n",
    "    return population_dict\n",
    "\n",
    "population_dict = get_population_data(\"population_data.json\")"
   ]
  },
  {
   "cell_type": "code",
   "execution_count": 134,
   "metadata": {},
   "outputs": [],
   "source": [
    "\n",
    "broadcast_population_dict = spark.sparkContext.broadcast(population_dict)\n",
    "\n",
    "# Step 2: Define the UDF to get population based on zipcode, using the broadcast variable\n",
    "def get_population(zipcode):\n",
    "    return broadcast_population_dict.value.get(zipcode, None)  # Returns None if zipcode is not found\n",
    "\n",
    "# Create the UDF with the specified return type\n",
    "population_udf = udf(get_population, types.IntegerType())\n",
    "\n",
    "# Step 3: Apply the UDF to create the \"zipcode_population\" column\n",
    "df = df.withColumn(\"Zipcode\", col(\"Zipcode\").cast(\"int\"))\n",
    "df = df.withColumn(\"zipcode_population\", population_udf(col(\"Zipcode\")))"
   ]
  },
  {
   "cell_type": "code",
   "execution_count": 135,
   "metadata": {},
   "outputs": [
    {
     "name": "stdout",
     "output_type": "stream",
     "text": [
      "+--------+-------------------+-------------------+------------+-------+--------------+-------------+-----------+------------+--------------+---------------+-----------------+--------------+---------+----------------+-----+----+-----------+------------------+\n",
      "|Severity|         Start_Time|           End_Time|Distance(mi)|Zipcode|Temperature(F)|Wind_Chill(F)|Humidity(%)|Pressure(in)|Visibility(mi)|Wind_Speed(mph)|Precipitation(in)|Sunrise_Sunset|Day_Night|duration_minutes|month|year|day_of_week|zipcode_population|\n",
      "+--------+-------------------+-------------------+------------+-------+--------------+-------------+-----------+------------+--------------+---------------+-----------------+--------------+---------+----------------+-----+----+-----------+------------------+\n",
      "|       3|2016-02-08 07:44:26|2016-02-08 08:14:26|        0.01|  43081|          37.9|         35.5|       97.0|       29.63|           7.0|            3.5|             0.03|           Day|        1|            30.0|    2|2016|          1|             64746|\n",
      "|       3|2016-02-08 08:10:04|2016-02-08 08:40:04|        0.01|  43081|          37.4|         33.8|      100.0|       29.62|           3.0|            4.6|             0.02|           Day|        1|            30.0|    2|2016|          1|             64746|\n",
      "|       3|2016-02-08 08:21:27|2016-02-08 08:51:27|        0.01|  43068|          37.4|         33.8|      100.0|       29.62|           3.0|            4.6|             0.02|           Day|        1|            30.0|    2|2016|          1|             58916|\n",
      "|       2|2016-02-08 08:39:43|2016-02-08 09:09:43|        0.01|  43213|          37.4|         33.8|      100.0|       29.62|           3.0|            4.6|             0.02|           Day|        1|            30.0|    2|2016|          1|             36724|\n",
      "|       2|2016-02-08 10:11:15|2016-02-08 10:41:15|         0.0|  43230|          33.8|         29.6|      100.0|       29.62|           2.0|            4.6|             0.01|           Day|        1|            30.0|    2|2016|          1|             58079|\n",
      "+--------+-------------------+-------------------+------------+-------+--------------+-------------+-----------+------------+--------------+---------------+-----------------+--------------+---------+----------------+-----+----+-----------+------------------+\n",
      "only showing top 5 rows\n",
      "\n"
     ]
    }
   ],
   "source": [
    "df.show(5)"
   ]
  },
  {
   "cell_type": "markdown",
   "metadata": {},
   "source": [
    "Plot a histogram to see how population is distributed"
   ]
  },
  {
   "cell_type": "code",
   "execution_count": 137,
   "metadata": {},
   "outputs": [
    {
     "name": "stderr",
     "output_type": "stream",
     "text": [
      "                                                                                \r"
     ]
    },
    {
     "data": {
      "image/png": "[encoded data removed]",
      "text/plain": [
       "<Figure size 1000x600 with 1 Axes>"
      ]
     },
     "metadata": {},
     "output_type": "display_data"
    }
   ],
   "source": [
    "population_data = df.select(\"zipcode_population\").dropna().rdd.flatMap(lambda x: x).collect()\n",
    "\n",
    "# Plotting histogram with 20 bins\n",
    "plt.figure(figsize=(10, 6))\n",
    "plt.hist(population_data, bins=20, edgecolor='black')\n",
    "plt.title(\"Population Distribution by ZIP Code\")\n",
    "plt.xlabel(\"Population\")\n",
    "plt.ylabel(\"Frequency\")\n",
    "plt.show()"
   ]
  },
  {
   "cell_type": "markdown",
   "metadata": {},
   "source": [
    "Seems to work!"
   ]
  },
  {
   "cell_type": "markdown",
   "metadata": {},
   "source": [
    "# Summary of Variables"
   ]
  },
  {
   "cell_type": "code",
   "execution_count": 136,
   "metadata": {},
   "outputs": [
    {
     "name": "stdout",
     "output_type": "stream",
     "text": [
      "root\n",
      " |-- Severity: integer (nullable = true)\n",
      " |-- Start_Time: timestamp (nullable = true)\n",
      " |-- End_Time: timestamp (nullable = true)\n",
      " |-- Distance(mi): double (nullable = true)\n",
      " |-- Zipcode: integer (nullable = true)\n",
      " |-- Temperature(F): double (nullable = true)\n",
      " |-- Wind_Chill(F): double (nullable = true)\n",
      " |-- Humidity(%): double (nullable = true)\n",
      " |-- Pressure(in): double (nullable = true)\n",
      " |-- Visibility(mi): double (nullable = true)\n",
      " |-- Wind_Speed(mph): double (nullable = true)\n",
      " |-- Precipitation(in): double (nullable = true)\n",
      " |-- Sunrise_Sunset: string (nullable = true)\n",
      " |-- Day_Night: integer (nullable = true)\n",
      " |-- duration_minutes: double (nullable = true)\n",
      " |-- month: integer (nullable = true)\n",
      " |-- year: integer (nullable = true)\n",
      " |-- day_of_week: integer (nullable = true)\n",
      " |-- zipcode_population: integer (nullable = true)\n",
      "\n"
     ]
    }
   ],
   "source": [
    "df.printSchema()"
   ]
  },
  {
   "cell_type": "code",
   "execution_count": 140,
   "metadata": {},
   "outputs": [
    {
     "name": "stderr",
     "output_type": "stream",
     "text": [
      "                                                                                \r"
     ]
    },
    {
     "data": {
      "text/plain": [
       "5227106"
      ]
     },
     "execution_count": 140,
     "metadata": {},
     "output_type": "execute_result"
    }
   ],
   "source": [
    "df.count()"
   ]
  },
  {
   "cell_type": "markdown",
   "metadata": {},
   "source": [
    "Consolidate all the distributed data into one giant dataFrame, and then output to a path."
   ]
  },
  {
   "cell_type": "code",
   "execution_count": 139,
   "metadata": {},
   "outputs": [
    {
     "name": "stderr",
     "output_type": "stream",
     "text": [
      "                                                                                \r"
     ]
    }
   ],
   "source": [
    "df.coalesce(1).write.csv(\"./cleaned_data\", header=True, mode=\"overwrite\")"
   ]
  }
 ],
 "metadata": {
  "kernelspec": {
   "display_name": ".venv",
   "language": "python",
   "name": "python3"
  },
  "language_info": {
   "codemirror_mode": {
    "name": "ipython",
    "version": 3
   },
   "file_extension": ".py",
   "mimetype": "text/x-python",
   "name": "python",
   "nbconvert_exporter": "python",
   "pygments_lexer": "ipython3",
   "version": "3.11.2"
  }
 },
 "nbformat": 4,
 "nbformat_minor": 2
}
